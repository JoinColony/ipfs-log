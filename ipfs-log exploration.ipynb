{
 "cells": [
  {
   "cell_type": "code",
   "execution_count": null,
   "metadata": {},
   "outputs": [],
   "source": [
    "const Log = require(\"./src/log\")\n",
    "// const Log = require(\"ipfs-log\") elsewhere."
   ]
  },
  {
   "cell_type": "markdown",
   "metadata": {},
   "source": [
    "# `ipfs-log`\n",
    "\n",
    "For a minimum viable `ipfs-log`, you need three things: a running IPFS node, an access controller, and an identity.\n",
    "\n",
    "## The IPFS Node\n",
    "\n",
    "For our examples, we'll just use a node.js js-ipfs instance."
   ]
  },
  {
   "cell_type": "code",
   "execution_count": 3,
   "metadata": {},
   "outputs": [],
   "source": [
    "const IPFS = require(\"ipfs\")"
   ]
  },
  {
   "cell_type": "code",
   "execution_count": 4,
   "metadata": {},
   "outputs": [
    {
     "name": "stdout",
     "output_type": "stream",
     "text": [
      "Swarm listening on /ip4/127.0.0.1/tcp/4003/ws/ipfs/QmTnrsWEWwXhAWP1YEKvC3qQUt3MYprXmTmoRmDY4bwwBj\n",
      "Swarm listening on /ip4/127.0.0.1/tcp/4002/ipfs/QmTnrsWEWwXhAWP1YEKvC3qQUt3MYprXmTmoRmDY4bwwBj\n",
      "Swarm listening on /ip4/172.17.0.3/tcp/4002/ipfs/QmTnrsWEWwXhAWP1YEKvC3qQUt3MYprXmTmoRmDY4bwwBj\n"
     ]
    }
   ],
   "source": [
    "var ipfs = new IPFS()"
   ]
  },
  {
   "cell_type": "markdown",
   "metadata": {},
   "source": [
    "^ Always a good sign.\n",
    "\n",
    "## The Access Controller"
   ]
  },
  {
   "cell_type": "code",
   "execution_count": 5,
   "metadata": {},
   "outputs": [],
   "source": [
    "const AccessController = require('./src/default-access-controller')"
   ]
  },
  {
   "cell_type": "code",
   "execution_count": 6,
   "metadata": {},
   "outputs": [],
   "source": [
    "var testACL = new AccessController()"
   ]
  },
  {
   "cell_type": "markdown",
   "metadata": {},
   "source": [
    "## The Identity"
   ]
  },
  {
   "cell_type": "code",
   "execution_count": 7,
   "metadata": {},
   "outputs": [],
   "source": [
    "const IdentityProvider = require('orbit-db-identity-provider')\n",
    "const Keystore = require('orbit-db-keystore')"
   ]
  },
  {
   "cell_type": "code",
   "execution_count": 8,
   "metadata": {},
   "outputs": [],
   "source": [
    "const keystore = Keystore.create(\"./test/fixtures/keys\")\n",
    "const identitySignerFn = async (id, data) => {\n",
    "    const key = await keystore.getKey(id)\n",
    "    return keystore.sign(key, data)\n",
    "}\n",
    "\n",
    "let testIdentity;\n",
    "(async () => { testIdentity = await IdentityProvider.createIdentity(keystore, 'userA', identitySignerFn) })()"
   ]
  },
  {
   "cell_type": "markdown",
   "metadata": {},
   "source": [
    "With these, we can create a minimum viable log"
   ]
  },
  {
   "cell_type": "code",
   "execution_count": 21,
   "metadata": {},
   "outputs": [
    {
     "name": "stdout",
     "output_type": "stream",
     "text": [
      "1541647478998\n",
      "0\n",
      "LamportClock {\n",
      "  id:\n",
      "   '042750228c5d81653e5142e6a56d5551231649160f77b25797dc427f8a5b2afd650acca10182f0dfc519dc6d6e5216b9a6612dbfc56e906bdbf34ea373c92b30d7',\n",
      "  time: 0 }\n"
     ]
    }
   ],
   "source": [
    "var log = new Log(ipfs, testACL, testIdentity)   \n",
    "\n",
    "// Getters\n",
    "console.log(log.id) // Timestamp by default\n",
    "console.log(log.length) // Empty (0) by default\n",
    "console.log(log.clock) // Explanation of a Lamport Clock = how are IDs generated?\n",
    "\n",
    "// Direct-access Properties\n",
    "// console.log(log._storage.id().then(console.log)) // The IPFS instance\n",
    "// console.log(log._access) // AccessController\n",
    "// console.log(log._identity) // Identity (testIdentity)\n",
    "// console.log(log._entryIndex) // {} to start\n",
    "// console.log(log._headsIndex) // {} to start\n",
    "// console.log(log._nextsIndex) // {} to start"
   ]
  },
  {
   "cell_type": "markdown",
   "metadata": {},
   "source": [
    "## Creating Entries\n",
    "\n",
    "Manually or as part of a Log\n",
    "\n",
    "### The Easy Way\n",
    "\n",
    "\n",
    "### The Hard Way"
   ]
  },
  {
   "cell_type": "code",
   "execution_count": 22,
   "metadata": {},
   "outputs": [],
   "source": [
    "const Entry = require(\"./src/entry\")\n",
    "const Clock = require('./src/lamport-clock')"
   ]
  },
  {
   "cell_type": "code",
   "execution_count": 23,
   "metadata": {},
   "outputs": [],
   "source": [
    "let entry;\n",
    "\n",
    "(async () => {\n",
    "    entry = await Entry.create(ipfs, testIdentity, 'A', 'entryA', [], new Clock('A', 0))\n",
    "})()"
   ]
  }
 ],
 "metadata": {
  "kernelspec": {
   "display_name": "Javascript (Node.js)",
   "language": "javascript",
   "name": "javascript"
  },
  "language_info": {
   "file_extension": ".js",
   "mimetype": "application/javascript",
   "name": "javascript",
   "version": "10.8.0"
  }
 },
 "nbformat": 4,
 "nbformat_minor": 2
}
