{
 "cells": [
  {
   "cell_type": "markdown",
   "metadata": {},
   "source": [
    "> For more information how to run the Jupyter notebooks and our overall philosophy regarding interactive docs, read more here. (TODO)\n",
    "\n",
    "\n",
    "# `ipfs-log`\n",
    "\n",
    "## Intro\n",
    "\n",
    "The `Log` provided by the `ipfs-log` package is an implementation of a Conflict-Free Replicated Data Type (CRDT) that utilizes the Interplanetary File System (IPFS) as a storage backend. The functionality in this package forms the backbone of [`orbit-db`](https://github.com/orbitdb/orbit-db).\n",
    "\n",
    "## Nomenclature and Concepts\n",
    "\n",
    "### Conflict-Free Replicated Data Type (CRDT)\n",
    "\n",
    "A **Conflict-Free Replicated Data Type** is a type of log that solves the problem of locally storing, and ultimately merging, distrubuted data sets to other distributed data sets<sup>1</sup>. It allows users to perform operations on *local* databases with the intent of merging or joining those data with the data stored on the devices of other peers in the network.\n",
    "\n",
    "### Lamport Clock\n",
    "\n",
    "To achieve successful merging - merging that is properly *associative* - entries are timestamped with something called a Lamport Clock<sup>2</sup>. Lamport clocks are instantiation of vector clocks, which means each timestamp is a pair of values: the timestamp of the entry, and an identifier of the user or device that generated the entry.\n",
    "\n",
    "In the case of `ipfs-log`, the identifier is the public key of the IPFS node where the entries are initially generated.\n",
    "\n",
    "```javascript\n",
    "// Lamport Clock Object\n",
    "{\n",
    "  id: '042750228c5d81653e5142e6a56d55...e5216b9a6612dbfc56e906bdbf34ea373c92b30d7',\n",
    "  time: 0\n",
    "}\n",
    "```\n",
    "\n",
    "### Heads and Tails\n",
    "\n",
    "The **head** of a log is an entry that is not referenced by any other entry\n",
    "\n",
    "The **tail** of a log points to another entry that is not in the input array (or no entries?)\n",
    "\n",
    "### G-Set\n",
    "\n",
    "`ipfs-log` specifically uses a G-Set CRDT, which in practice means \"append-only\".\n",
    "\n",
    "```javascript\n",
    "class GSet {\n",
    "  constuctor (values) {}\n",
    "  append (value) {}\n",
    "  merge (set) {}\n",
    "  get (value) {}\n",
    "  has (value) {}\n",
    "  get values () {}\n",
    "  get length () {}\n",
    "}\n",
    "```\n",
    "\n",
    "#### References\n",
    "\n",
    "1. https://citemaster.net/get/10b50274-7bc5-11e5-8aa1-00163e009cc7/p558-lamport.pdf\n",
    "2. https://hal.inria.fr/inria-00555588\n",
    "\n",
    "\n",
    "## Table of Contents\n",
    "\n",
    "1. Front Matter\n",
    "  1. Intro\n",
    "  2. Nomenclature\n",
    "  3. About the Jupyter Notebooks\n",
    "2. [Prerequisites](#Prerequisites)\n",
    "  1. [IPFS Node](#IPFS-Node)\n",
    "  2. [Access Controller](#Access-Controller)\n",
    "  3. [Identity](#Identity)\n",
    "3. [Usage](#Usage)\n",
    "  1. [Creating Logs](#Creating-Logs)\n",
    "  3. [Manipulating Logs](#Manipulating-Logs)\n",
    "  4. [Joining Logs](#Joining-Logs)\n",
    "4. [API Documentation](#API-Documentation)\n",
    "  1. [Log](#Log)"
   ]
  },
  {
   "cell_type": "code",
   "execution_count": 1,
   "metadata": {},
   "outputs": [],
   "source": [
    "// const Log = require(\"ipfs-log\")\n",
    "const Log = require(\"./src/log\") // if running from within the repo"
   ]
  },
  {
   "cell_type": "markdown",
   "metadata": {},
   "source": [
    "## Prerequisites\n",
    "\n",
    "For a minimum viable `ipfs-log`, you need three things: a running IPFS node, an access controller, and an identity.\n",
    "\n",
    "### IPFS Node\n",
    "\n",
    "For our examples, we'll switch between a node.js [`js-ipfs`](https://github.com/ipfs/js-ipfs) instance, and a go node using [`js-ipfs-api`](https://github.com/ipfs/js-ipfs-api)."
   ]
  },
  {
   "cell_type": "code",
   "execution_count": 2,
   "metadata": {},
   "outputs": [],
   "source": [
    "const IPFS = require(\"ipfs\")\n",
    "const IpfsApi = require(\"ipfs-api\")"
   ]
  },
  {
   "cell_type": "code",
   "execution_count": 3,
   "metadata": {},
   "outputs": [],
   "source": [
    "// Default config\n",
    "var ipfs = new IPFS()\n",
    "var ipfsapi = new IpfsApi(\"localhost\", 5001)"
   ]
  },
  {
   "cell_type": "markdown",
   "metadata": {},
   "source": [
    "^ Always a good sign.\n",
    "\n",
    "### Access Controller\n",
    "\n",
    "TODO: Details"
   ]
  },
  {
   "cell_type": "code",
   "execution_count": 4,
   "metadata": {},
   "outputs": [],
   "source": [
    "const AccessController = require('./src/default-access-controller')"
   ]
  },
  {
   "cell_type": "code",
   "execution_count": 5,
   "metadata": {},
   "outputs": [],
   "source": [
    "var testACL = new AccessController()"
   ]
  },
  {
   "cell_type": "markdown",
   "metadata": {},
   "source": [
    "### Identity\n",
    "\n",
    "TODO: Details\n"
   ]
  },
  {
   "cell_type": "code",
   "execution_count": 6,
   "metadata": {},
   "outputs": [],
   "source": [
    "const IdentityProvider = require('orbit-db-identity-provider')\n",
    "const Keystore = require('orbit-db-keystore')"
   ]
  },
  {
   "cell_type": "code",
   "execution_count": 7,
   "metadata": {},
   "outputs": [],
   "source": [
    "const keystore = Keystore.create(\"./test/fixtures/keys\")\n",
    "const identitySignerFn = async (id, data) => {\n",
    "    const key = await keystore.getKey(id)\n",
    "    return keystore.sign(key, data)\n",
    "}\n",
    "\n",
    "let testIdentityA, testIdentityB;\n",
    "(async () => { \n",
    "    testIdentityA = await IdentityProvider.createIdentity(keystore, 'userA', identitySignerFn)\n",
    "    testIdentityB = await IdentityProvider.createIdentity(keystore, 'userB', identitySignerFn)\n",
    "    testIdentityC = await IdentityProvider.createIdentity(keystore, 'userC', identitySignerFn)\n",
    "})()"
   ]
  },
  {
   "cell_type": "markdown",
   "metadata": {},
   "source": [
    "## Usage\n",
    "\n",
    "With the following, we can create a minimum viable log:\n",
    "* a working IPFS node\n",
    "* access controller\n",
    "* an identity\n",
    "\n",
    "The full signature is \n",
    "\n",
    "```javascript\n",
    "new Log(ipfs, access, identity, [logId], [entries], [heads], [clock])\n",
    "```\n",
    "\n",
    "We'll more into the optional params now. For now, let's create a couple \"minimum viable\" logs.\n",
    "\n",
    "### Creating Logs"
   ]
  },
  {
   "cell_type": "code",
   "execution_count": 8,
   "metadata": {},
   "outputs": [],
   "source": [
    "var log = new Log(ipfs, testACL, testIdentityA)   \n",
    "var log2 = new Log(ipfsapi, testACL, testIdentityB)"
   ]
  },
  {
   "cell_type": "markdown",
   "metadata": {},
   "source": [
    "If you don't supply a `logId`, the current javascript timestamp will be used."
   ]
  },
  {
   "cell_type": "code",
   "execution_count": 9,
   "metadata": {},
   "outputs": [
    {
     "data": {
      "text/plain": [
       "'1542128390806'"
      ]
     },
     "execution_count": 9,
     "metadata": {},
     "output_type": "execute_result"
    }
   ],
   "source": [
    "log.id"
   ]
  },
  {
   "cell_type": "markdown",
   "metadata": {},
   "source": [
    "If no log `entries` are specified, the log's `length` will be 0."
   ]
  },
  {
   "cell_type": "code",
   "execution_count": 10,
   "metadata": {},
   "outputs": [
    {
     "data": {
      "text/plain": [
       "0"
      ]
     },
     "execution_count": 10,
     "metadata": {},
     "output_type": "execute_result"
    }
   ],
   "source": [
    "log2.length"
   ]
  },
  {
   "cell_type": "markdown",
   "metadata": {},
   "source": [
    "`ipfs-log` uses Lamport Clocks, which are a type of vector clock. By tracking both the ID and timestamp of each entry, logs can be merged with other logs and still produce a unique, sorted, set of entries to be processed. This data type is compatible with any \"pure\" function. "
   ]
  },
  {
   "cell_type": "code",
   "execution_count": 11,
   "metadata": {},
   "outputs": [
    {
     "data": {
      "text/plain": [
       "LamportClock {\n",
       "  id:\n",
       "   '042750228c5d81653e5142e6a56d5551231649160f77b25797dc427f8a5b2afd650acca10182f0dfc519dc6d6e5216b9a6612dbfc56e906bdbf34ea373c92b30d7',\n",
       "  time: 0 }"
      ]
     },
     "execution_count": 11,
     "metadata": {},
     "output_type": "execute_result"
    }
   ],
   "source": [
    "log.clock"
   ]
  },
  {
   "cell_type": "code",
   "execution_count": 12,
   "metadata": {},
   "outputs": [
    {
     "data": {
      "text/plain": [
       "LamportClock {\n",
       "  id:\n",
       "   '04e9224ee3451772f3ad43068313dc5bdc6d3f2c9a8c3a6ba6f73a472d5f47a96ae6d776de13f2fc2076140fd68ca900df2ca4862b06192adbf8f8cb18a99d69aa',\n",
       "  time: 0 }"
      ]
     },
     "execution_count": 12,
     "metadata": {},
     "output_type": "execute_result"
    }
   ],
   "source": [
    "log2.clock"
   ]
  },
  {
   "cell_type": "markdown",
   "metadata": {},
   "source": [
    "### Manipulating Logs\n",
    "\n",
    "Now that we have our logs, let's create some entries!\n",
    "\n",
    "TODO: Entry Signature"
   ]
  },
  {
   "cell_type": "code",
   "execution_count": 13,
   "metadata": {},
   "outputs": [],
   "source": [
    "const Entry = require(\"./src/entry\")\n",
    "const Clock = require('./src/lamport-clock')"
   ]
  },
  {
   "cell_type": "markdown",
   "metadata": {},
   "source": [
    "### Adding entries at log creation\n",
    "\n",
    "\n",
    "By utilizng the first of our optional params, we can create a log with entries right from the start. Observe how the length and clock values change. Please note that with this method you have to _manually_ set the clock values for each entry."
   ]
  },
  {
   "cell_type": "code",
   "execution_count": 14,
   "metadata": {},
   "outputs": [
    {
     "name": "stdout",
     "output_type": "stream",
     "text": [
      "Swarm listening on /ip4/127.0.0.1/tcp/4003/ws/ipfs/QmTnrsWEWwXhAWP1YEKvC3qQUt3MYprXmTmoRmDY4bwwBj\n",
      "Swarm listening on /ip4/127.0.0.1/tcp/4002/ipfs/QmTnrsWEWwXhAWP1YEKvC3qQUt3MYprXmTmoRmDY4bwwBj\n",
      "Swarm listening on /ip4/10.0.1.112/tcp/4002/ipfs/QmTnrsWEWwXhAWP1YEKvC3qQUt3MYprXmTmoRmDY4bwwBj\n",
      "Swarm listening on /ip4/172.17.0.1/tcp/4002/ipfs/QmTnrsWEWwXhAWP1YEKvC3qQUt3MYprXmTmoRmDY4bwwBj\n"
     ]
    }
   ],
   "source": [
    "let log3;\n",
    "\n",
    "(async() => {\n",
    "    var entry1 = await Entry.create(ipfs, testIdentityC, 'C', 'entry1', [], new Clock('C', 0))\n",
    "    var entry2 = await Entry.create(ipfs, testIdentityC, 'C', 'entry2', [], new Clock('C', 1))\n",
    "    log3 = new Log(ipfs, testACL, testIdentityC, null, [entry1, entry2])\n",
    "})()"
   ]
  },
  {
   "cell_type": "code",
   "execution_count": 15,
   "metadata": {},
   "outputs": [
    {
     "data": {
      "text/plain": [
       "2"
      ]
     },
     "execution_count": 15,
     "metadata": {},
     "output_type": "execute_result"
    }
   ],
   "source": [
    "log3.length"
   ]
  },
  {
   "cell_type": "code",
   "execution_count": 16,
   "metadata": {},
   "outputs": [
    {
     "data": {
      "text/plain": [
       "LamportClock {\n",
       "  id:\n",
       "   '045d10320c2a75982d55e7e487db235341ac0a09a36252de6f3e959b9e249841a4bf4cfb909ec8c801ceeb0679586312e1830a753800ee351da54eb20e401df592',\n",
       "  time: 1 }"
      ]
     },
     "execution_count": 16,
     "metadata": {},
     "output_type": "execute_result"
    }
   ],
   "source": [
    "log3.clock"
   ]
  },
  {
   "cell_type": "markdown",
   "metadata": {},
   "source": [
    "### Adding entries after log creation\n",
    "\n",
    "Note that the clock in the entries will be ignored and are therefor not necessary for this method."
   ]
  },
  {
   "cell_type": "code",
   "execution_count": 17,
   "metadata": {},
   "outputs": [],
   "source": [
    "(async () => {\n",
    "    var entry3 = await Entry.create(ipfs, testIdentityC, 'C', 'entry3', [])\n",
    "    var entry4 = await Entry.create(ipfs, testIdentityC, 'C', 'entry4', [])\n",
    "    var entry5 = await Entry.create(ipfs, testIdentityC, 'C', 'entry5', [])\n",
    "    log3.append(entry3)\n",
    "    log3.append(entry4)\n",
    "    log3.append(entry5)\n",
    "})()"
   ]
  },
  {
   "cell_type": "code",
   "execution_count": 18,
   "metadata": {},
   "outputs": [
    {
     "data": {
      "text/plain": [
       "2"
      ]
     },
     "execution_count": 18,
     "metadata": {},
     "output_type": "execute_result"
    }
   ],
   "source": [
    "log3.length"
   ]
  },
  {
   "cell_type": "code",
   "execution_count": 19,
   "metadata": {},
   "outputs": [
    {
     "data": {
      "text/plain": [
       "LamportClock {\n",
       "  id:\n",
       "   '045d10320c2a75982d55e7e487db235341ac0a09a36252de6f3e959b9e249841a4bf4cfb909ec8c801ceeb0679586312e1830a753800ee351da54eb20e401df592',\n",
       "  time: 4 }"
      ]
     },
     "execution_count": 19,
     "metadata": {},
     "output_type": "execute_result"
    }
   ],
   "source": [
    "log3.clock"
   ]
  },
  {
   "cell_type": "markdown",
   "metadata": {},
   "source": [
    "### Joining Logs\n",
    "\n",
    "TODO: Show the magic"
   ]
  },
  {
   "cell_type": "markdown",
   "metadata": {},
   "source": [
    "## API Documentation\n",
    "\n",
    "\n",
    "### `class Log`\n",
    "\n",
    "Creates a new Log instance"
   ]
  },
  {
   "cell_type": "code",
   "execution_count": 42,
   "metadata": {},
   "outputs": [],
   "source": [
    "var log5 = new Log(ipfs, testACL, testIdentityA)"
   ]
  },
  {
   "cell_type": "markdown",
   "metadata": {},
   "source": [
    "#### Properties\n",
    "\n",
    "##### `id`\n",
    "\n",
    "The ID of the log. If one is not specified it will default to JS microtime."
   ]
  },
  {
   "cell_type": "code",
   "execution_count": 54,
   "metadata": {},
   "outputs": [
    {
     "data": {
      "text/plain": [
       "'1542130188333'"
      ]
     },
     "execution_count": 54,
     "metadata": {},
     "output_type": "execute_result"
    }
   ],
   "source": [
    "log5.id"
   ]
  },
  {
   "cell_type": "markdown",
   "metadata": {},
   "source": [
    "##### `values`\n",
    "\n",
    "Returns an `Array` of [entries](https://github.com/haadcode/ipfs-log/blob/master/src/entry.js) in the log.\n",
    " The values are in linearized order according to their [Lamport clocks](https://en.wikipedia.org/wiki/Lamport_timestamps)."
   ]
  },
  {
   "cell_type": "code",
   "execution_count": 55,
   "metadata": {},
   "outputs": [
    {
     "data": {
      "text/plain": [
       "[ 'Qmb1aXiPJVMTRQnhwa1cFcD8DuSaHoUBjhd4tV3S8ELGSS',\n",
       "  'QmWMvKh7J37fL2dS287pPYTT3xJPYWwWqTuozh3QxwsdR9',\n",
       "  'QmUWksAJvrZEMv378Ky7y5dDTXqCwKXCo1CMtDf1mL3suA',\n",
       "  'QmVPREX2YMpLjYsdMyDbbFAT62kBLKLTCgkzuK2ng5TSrP',\n",
       "  'QmVtADcWAc8dyBEsg9oVCMPSSSMbXM3oAG5aDj6TyJTuL8',\n",
       "  'QmWpE1yWphMJAWZrtx5KueJA5aAzGGErFmtqQaBCkhnkPW' ]"
      ]
     },
     "execution_count": 55,
     "metadata": {},
     "output_type": "execute_result"
    }
   ],
   "source": [
    "log3.values // full array of all values\n",
    "log3.values.map(v => v.hash)"
   ]
  },
  {
   "cell_type": "markdown",
   "metadata": {},
   "source": [
    "##### `length`\n",
    "\n",
    "Returns the number of entries in the log."
   ]
  },
  {
   "cell_type": "code",
   "execution_count": 48,
   "metadata": {},
   "outputs": [
    {
     "data": {
      "text/plain": [
       "6"
      ]
     },
     "execution_count": 48,
     "metadata": {},
     "output_type": "execute_result"
    }
   ],
   "source": [
    "log3.length // Also equivalent to log3.values.length"
   ]
  },
  {
   "cell_type": "markdown",
   "metadata": {},
   "source": [
    "##### `clock`\n",
    "\n",
    "Returns the current timestamp of the log in Lamport Clock."
   ]
  },
  {
   "cell_type": "code",
   "execution_count": 49,
   "metadata": {},
   "outputs": [
    {
     "data": {
      "text/plain": [
       "LamportClock {\n",
       "  id:\n",
       "   '045d10320c2a75982d55e7e487db235341ac0a09a36252de6f3e959b9e249841a4bf4cfb909ec8c801ceeb0679586312e1830a753800ee351da54eb20e401df592',\n",
       "  time: 5 }"
      ]
     },
     "execution_count": 49,
     "metadata": {},
     "output_type": "execute_result"
    }
   ],
   "source": [
    "log3.clock"
   ]
  },
  {
   "cell_type": "markdown",
   "metadata": {},
   "source": [
    "##### `heads`\n",
    "\n",
    "Returns the heads of the log. Heads are the entries that are not referenced by other entries in the log."
   ]
  },
  {
   "cell_type": "code",
   "execution_count": 50,
   "metadata": {},
   "outputs": [
    {
     "data": {
      "text/plain": [
       "[ 'QmWpE1yWphMJAWZrtx5KueJA5aAzGGErFmtqQaBCkhnkPW' ]"
      ]
     },
     "execution_count": 50,
     "metadata": {},
     "output_type": "execute_result"
    }
   ],
   "source": [
    "log3.heads // full array of all values\n",
    "log3.heads.map(h => h.hash)"
   ]
  },
  {
   "cell_type": "markdown",
   "metadata": {},
   "source": [
    "##### `tails`\n",
    "\n",
    "Return the tails of the log. Tails are the entries that reference other entries that are not in the log."
   ]
  },
  {
   "cell_type": "code",
   "execution_count": 51,
   "metadata": {},
   "outputs": [
    {
     "data": {
      "text/plain": [
       "[ 'Qmb1aXiPJVMTRQnhwa1cFcD8DuSaHoUBjhd4tV3S8ELGSS',\n",
       "  'QmWMvKh7J37fL2dS287pPYTT3xJPYWwWqTuozh3QxwsdR9' ]"
      ]
     },
     "execution_count": 51,
     "metadata": {},
     "output_type": "execute_result"
    }
   ],
   "source": [
    "log3.tails // full array of all values\n",
    "log3.tails.map(h => h.hash)"
   ]
  },
  {
   "cell_type": "markdown",
   "metadata": {},
   "source": [
    "#### Methods"
   ]
  },
  {
   "cell_type": "markdown",
   "metadata": {},
   "source": [
    "##### `get(multihash)`\n",
    "> @param multihash <br />\n",
    "> @returns whatever\n",
    "Find an entry by multihash (TODO: link to multihash docs)"
   ]
  },
  {
   "cell_type": "code",
   "execution_count": 27,
   "metadata": {},
   "outputs": [
    {
     "data": {
      "text/plain": [
       "'entry2'"
      ]
     },
     "execution_count": 27,
     "metadata": {},
     "output_type": "execute_result"
    }
   ],
   "source": [
    "var tail_entry = log3.get(\"QmWMvKh7J37fL2dS287pPYTT3xJPYWwWqTuozh3QxwsdR9\")\n",
    "tail_entry.payload"
   ]
  },
  {
   "cell_type": "markdown",
   "metadata": {},
   "source": [
    "##### `has(multihash)`\n",
    "\n",
    "Verify that a certain entry exists in a log"
   ]
  },
  {
   "cell_type": "code",
   "execution_count": 28,
   "metadata": {},
   "outputs": [
    {
     "data": {
      "text/plain": [
       "true"
      ]
     },
     "execution_count": 28,
     "metadata": {},
     "output_type": "execute_result"
    }
   ],
   "source": [
    "log3.has(\"Qmb1aXiPJVMTRQnhwa1cFcD8DuSaHoUBjhd4tV3S8ELGSS\")"
   ]
  },
  {
   "cell_type": "markdown",
   "metadata": {},
   "source": [
    "##### `traverse(rootEntry, amount)`\n",
    "\n",
    "TODO: Need explainer and compelling example"
   ]
  },
  {
   "cell_type": "code",
   "execution_count": 29,
   "metadata": {},
   "outputs": [
    {
     "data": {
      "text/plain": [
       "{ QmVtADcWAc8dyBEsg9oVCMPSSSMbXM3oAG5aDj6TyJTuL8: 'QmVtADcWAc8dyBEsg9oVCMPSSSMbXM3oAG5aDj6TyJTuL8',\n",
       "  Qmb1aXiPJVMTRQnhwa1cFcD8DuSaHoUBjhd4tV3S8ELGSS: 'Qmb1aXiPJVMTRQnhwa1cFcD8DuSaHoUBjhd4tV3S8ELGSS' }"
      ]
     },
     "execution_count": 29,
     "metadata": {},
     "output_type": "execute_result"
    }
   ],
   "source": [
    "var headHash = log3.heads[0].hash\n",
    "var headEntry = log3.get(headHash)\n",
    "log3.traverse([headEntry], 2)"
   ]
  },
  {
   "cell_type": "markdown",
   "metadata": {},
   "source": [
    "##### `append(entry, [pointerCount = 1])`\n",
    "\n",
    "Adds a new entry to an existing log\n",
    "\n",
    "Append an entry to the log. Returns a *Promise* that resolves to the updated `Log`.\n",
    "\n",
    "`ipfs` IPFS instance.\n",
    "\n",
    "`log` Log to append to.\n",
    "\n",
    "`data` can be any type of data: Number, String, Object, etc. It can also be an instance of [Entry](https:/\n",
    "/github.com/haadcode/ipfs-log/blob/master/src/entry.js).\n",
    "\n",
    "\n",
    "TODO: pointerCount example"
   ]
  },
  {
   "cell_type": "code",
   "execution_count": 30,
   "metadata": {},
   "outputs": [
    {
     "name": "stdout",
     "output_type": "stream",
     "text": [
      "5\n"
     ]
    }
   ],
   "source": [
    "(async () => {\n",
    "    var entry6 = await Entry.create(ipfs, testIdentityC, 'C', 'entry6', [])\n",
    "    log3.append(entry6)\n",
    "    console.log(log3.length)\n",
    "})()"
   ]
  },
  {
   "cell_type": "markdown",
   "metadata": {},
   "source": [
    "##### `join(log, [size = -1])`\n",
    "\n",
    "Join the log with another log. Returns a Promise that resolves to a `Log` instance. The size of the joined\n",
    " log can be specified by giving `length` argument.\n",
    "\n",
    "TODO: Size example, also does this even work??"
   ]
  },
  {
   "cell_type": "code",
   "execution_count": 31,
   "metadata": {},
   "outputs": [
    {
     "name": "stdout",
     "output_type": "stream",
     "text": [
      "5 0\n",
      "5\n"
     ]
    }
   ],
   "source": [
    "(async () => {\n",
    "    var entry1B = await Entry.create(ipfs, testIdentityB, 'B', 'entry1B', [])\n",
    "    var entry2B = await Entry.create(ipfs, testIdentityB, 'B', 'entry2B', [])\n",
    "    var entry3B = await Entry.create(ipfs, testIdentityB, 'B', 'entry3B', [])\n",
    "    log2.append(entry1B)\n",
    "    log2.append(entry2B)\n",
    "    log2.append(entry3B)\n",
    "    \n",
    "    console.log(log3.length, log2.length)\n",
    "    log3.join(log2)\n",
    "    console.log(log3.length)\n",
    "})()"
   ]
  },
  {
   "cell_type": "markdown",
   "metadata": {},
   "source": [
    "##### `toJSON()`\n",
    "\n",
    "Outputs a JSON representatiopn of the log"
   ]
  },
  {
   "cell_type": "code",
   "execution_count": 32,
   "metadata": {},
   "outputs": [
    {
     "data": {
      "text/plain": [
       "{ id: '1542128390966',\n",
       "  heads: [ 'QmVtADcWAc8dyBEsg9oVCMPSSSMbXM3oAG5aDj6TyJTuL8' ] }"
      ]
     },
     "execution_count": 32,
     "metadata": {},
     "output_type": "execute_result"
    }
   ],
   "source": [
    "log3.toJSON()"
   ]
  },
  {
   "cell_type": "markdown",
   "metadata": {},
   "source": [
    "##### `toSnapshot()`"
   ]
  },
  {
   "cell_type": "code",
   "execution_count": 38,
   "metadata": {},
   "outputs": [
    {
     "data": {
      "text/plain": [
       "[ 'id', 'heads', 'values' ]"
      ]
     },
     "execution_count": 38,
     "metadata": {},
     "output_type": "execute_result"
    }
   ],
   "source": [
    "Object.keys(log3.toSnapshot())"
   ]
  },
  {
   "cell_type": "markdown",
   "metadata": {},
   "source": [
    "##### `toBuffer()`\n",
    "\n",
    "Converts the log to a `Buffer` that contains the log as JSON.stringified `string`. Returns a `Buffer`."
   ]
  },
  {
   "cell_type": "code",
   "execution_count": 40,
   "metadata": {},
   "outputs": [
    {
     "data": {
      "text/plain": [
       "'{\"id\":\"1542128390966\",\"heads\":[\"QmWpE1yWphMJAWZrtx5KueJA5aAzGGErFmtqQaBCkhnkPW\"]}'"
      ]
     },
     "execution_count": 40,
     "metadata": {},
     "output_type": "execute_result"
    }
   ],
   "source": [
    "log3.toBuffer()\n",
    "log3.toBuffer().toString()"
   ]
  },
  {
   "cell_type": "markdown",
   "metadata": {},
   "source": [
    "##### `toString(payloadMapper)`\n",
    "\n",
    "Returns the log values as a nicely formatted string."
   ]
  },
  {
   "cell_type": "code",
   "execution_count": 41,
   "metadata": {},
   "outputs": [
    {
     "data": {
      "text/plain": [
       "'QmNPrM8mnuBoJyhnhbpZKQpKzY7aCMgUfRjpJAbcmjiYrm\\nQmRCKGimSTvkNemDHLYSe3QD1jF2DhRLiPGeJ6Wnort7TL\\nQmTdrm59pikFbh4UAC3qkJtyVDqm3y1zV2A2uKTLCiUvSf'"
      ]
     },
     "execution_count": 41,
     "metadata": {},
     "output_type": "execute_result"
    }
   ],
   "source": [
    "logString = log2.toString(m => m.hash)"
   ]
  },
  {
   "cell_type": "markdown",
   "metadata": {},
   "source": [
    "##### (Static) `Log.isLog(log)` \n",
    "\n",
    "Check if an object is a `Log` instance."
   ]
  },
  {
   "cell_type": "code",
   "execution_count": 36,
   "metadata": {},
   "outputs": [
    {
     "name": "stdout",
     "output_type": "stream",
     "text": [
      "true\n",
      "false\n"
     ]
    }
   ],
   "source": [
    "console.log(Log.isLog(log3))\n",
    "console.log(Log.isLog(\"hello\"))"
   ]
  },
  {
   "cell_type": "markdown",
   "metadata": {},
   "source": [
    "##### `toMultihash()`\n",
    "\n",
    "Writes the log to IPFS and returns the Multihash of the log. Returns a `Promise` that resolves to a Base58\n",
    " encoded `string`."
   ]
  },
  {
   "cell_type": "code",
   "execution_count": 37,
   "metadata": {},
   "outputs": [
    {
     "data": {
      "text/plain": [
       "'QmSEU7xKrA4Ukj25FG2PhY4LJtUHJvR9nhJvAFFdA4CFhK'"
      ]
     },
     "execution_count": 37,
     "metadata": {},
     "output_type": "execute_result"
    }
   ],
   "source": [
    "log3.toMultihash()"
   ]
  },
  {
   "cell_type": "markdown",
   "metadata": {},
   "source": [
    "##### `static async Log.fromMultihash(ipfs, access, identity, hash, [length = -1], exclude, onProgressCallback)`\n",
    "\n",
    "Create a log from multihash\n",
    "   * @param {IPFS}   ipfs        An IPFS instance\n",
    "   * @param {string} hash        Multihash (as a Base58 encoded string) to create the log from\n",
    "   * @param {Number} [length=-1] How many items to include in the log\n",
    "   * @param {Function(hash, entry, parent, depth)} onProgressCallback\n",
    "   * @return {Promise<Log>}      New Log"
   ]
  },
  {
   "cell_type": "code",
   "execution_count": null,
   "metadata": {},
   "outputs": [],
   "source": [
    "(async() => {\n",
    "    var log3_hash = await log3.toMultihash()\n",
    "    var log4 = await Log.fromMultihash(ipfs, testACL, testIdentityC, log3_hash)\n",
    "    console.log(log4.length)\n",
    "})()"
   ]
  },
  {
   "cell_type": "markdown",
   "metadata": {},
   "source": [
    "##### `static async Log.fromEntryHash (ipfs, access, identity, hash, id, [length = -1], exclude, onProgressCallback)`\n",
    "\n",
    "TODO: Examples here"
   ]
  },
  {
   "cell_type": "markdown",
   "metadata": {},
   "source": [
    "##### `static async Log.fromJSON (ipfs, access, identity, json, length = -1, timeout, onProgressCallback)`"
   ]
  },
  {
   "cell_type": "markdown",
   "metadata": {},
   "source": [
    "##### `static async fromEntry (ipfs, access, identity, sourceEntries, length = -1, exclude, onProgressCallback)`\n",
    "\n",
    "Create a `Log` from an `Entry`.\n",
    "\n",
    "Creating a log from an entry will retrieve entries from IPFS, thus causing side effects."
   ]
  },
  {
   "cell_type": "markdown",
   "metadata": {},
   "source": [
    "##### ` static findHeads (entries)`"
   ]
  },
  {
   "cell_type": "markdown",
   "metadata": {},
   "source": [
    "##### `static findTails (entries)`"
   ]
  },
  {
   "cell_type": "markdown",
   "metadata": {},
   "source": [
    "##### `static findTailHashes (entries)`"
   ]
  },
  {
   "cell_type": "markdown",
   "metadata": {},
   "source": [
    "##### `  static Log.difference (a, b)`"
   ]
  },
  {
   "cell_type": "markdown",
   "metadata": {},
   "source": [
    "### LogIO\n",
    "#### toMultiHash\n",
    "#### fromMultiHash\n",
    "#### fromEntryHash\n",
    "#### fromJSON\n",
    "#### fromEntry\n",
    "\n",
    "### LamportClock\n",
    "#### constructor\n",
    "#### tick\n",
    "#### merge\n",
    "#### clone\n",
    "#### compare\n",
    "\n",
    "### Entry\n",
    "#### create\n",
    "#### verify\n",
    "#### toBuffer\n",
    "#### toMultiHash\n",
    "#### fromMultiHash\n",
    "#### isEntry\n",
    "#### compare\n",
    "#### isEqual\n",
    "#### isParent\n",
    "#### findChildren\n",
    "\n",
    "### EntryIO\n",
    "#### fetchParallel\n",
    "#### fetchAll\n",
    "\n",
    "### Utility Functions\n",
    "#### (src/log-sorting.js) LastWriteWins\n",
    "#### (src/log-sorting.js) SortByClocks\n",
    "#### (src/log-sorting.js) SortByClockId\n",
    "#### (src/utils/difference.js) difference\n",
    "#### (src/utils/find-uniques.js) findUniques\n",
    "#### (src/utils/intersection.js) intersection\n",
    "#### (src/utils/is-defined.js) is-defined\n",
    "\n",
    "### Errors\n",
    "#### IPFSNotDefinedError\n",
    "#### LogNotDefinedError\n",
    "#### NotALogError"
   ]
  }
 ],
 "metadata": {
  "kernelspec": {
   "display_name": "Javascript (Node.js)",
   "language": "javascript",
   "name": "javascript"
  },
  "language_info": {
   "file_extension": ".js",
   "mimetype": "application/javascript",
   "name": "javascript",
   "version": "10.8.0"
  }
 },
 "nbformat": 4,
 "nbformat_minor": 2
}
