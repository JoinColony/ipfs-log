{
 "cells": [
  {
   "cell_type": "markdown",
   "metadata": {},
   "source": [
    "# `ipfs-log`\n",
    "\n",
    "## Intro\n",
    "\n",
    "TODO: Explanation of what CRDT is\n",
    "https://hal.inria.fr/inria-00555588$\n",
    "\n",
    "TODO: Concepts and Nomenclature: What are heads and tails\n",
    "The **head** of a log is an entry that is not referenced by any other entry\n",
    "The **tail** of a log points to another entry that is not in the input array (or no entries?)\n",
    "\n",
    "TODO: Some diagrams to show how it works, i.e. heads and tails of logs.\n",
    "\n",
    "## Table of Contents\n",
    "\n",
    "1. Prerequisites\n",
    "  1. IPFS Node\n",
    "  2. Access Controller\n",
    "  3. Identity\n",
    "2. Usage\n",
    "  1. Creating Logs\n",
    "  2. Reading Logs\n",
    "  3. Manipulating Logs"
   ]
  },
  {
   "cell_type": "code",
   "execution_count": 1,
   "metadata": {},
   "outputs": [],
   "source": [
    "// const Log = require(\"ipfs-log\")\n",
    "const Log = require(\"./src/log\") // if running from within the repo"
   ]
  },
  {
   "cell_type": "markdown",
   "metadata": {},
   "source": [
    "## Prerequisites\n",
    "\n",
    "For a minimum viable `ipfs-log`, you need three things: a running IPFS node, an access controller, and an identity.\n",
    "\n",
    "### IPFS Node\n",
    "\n",
    "For our examples, we'll switch between a node.js [`js-ipfs`](https://github.com/ipfs/js-ipfs) instance, and a go node using [`js-ipfs-api`](https://github.com/ipfs/js-ipfs-api)."
   ]
  },
  {
   "cell_type": "code",
   "execution_count": 2,
   "metadata": {},
   "outputs": [],
   "source": [
    "const IPFS = require(\"ipfs\")\n",
    "const IpfsApi = require(\"ipfs-api\")"
   ]
  },
  {
   "cell_type": "code",
   "execution_count": 3,
   "metadata": {},
   "outputs": [],
   "source": [
    "// Default config\n",
    "var ipfs = new IPFS()\n",
    "var ipfsapi = new IpfsApi(\"localhost\", 5001)"
   ]
  },
  {
   "cell_type": "markdown",
   "metadata": {},
   "source": [
    "^ Always a good sign.\n",
    "\n",
    "### The Access Controller\n",
    "\n",
    "TODO: Minimum viable details here"
   ]
  },
  {
   "cell_type": "code",
   "execution_count": 4,
   "metadata": {},
   "outputs": [],
   "source": [
    "const AccessController = require('./src/default-access-controller')"
   ]
  },
  {
   "cell_type": "code",
   "execution_count": 5,
   "metadata": {},
   "outputs": [],
   "source": [
    "var testACL = new AccessController()"
   ]
  },
  {
   "cell_type": "markdown",
   "metadata": {},
   "source": [
    "### The Identity\n",
    "\n",
    "TODO: Minimum viable details here"
   ]
  },
  {
   "cell_type": "code",
   "execution_count": 6,
   "metadata": {},
   "outputs": [],
   "source": [
    "const IdentityProvider = require('orbit-db-identity-provider')\n",
    "const Keystore = require('orbit-db-keystore')"
   ]
  },
  {
   "cell_type": "code",
   "execution_count": 7,
   "metadata": {},
   "outputs": [],
   "source": [
    "const keystore = Keystore.create(\"./test/fixtures/keys\")\n",
    "const identitySignerFn = async (id, data) => {\n",
    "    const key = await keystore.getKey(id)\n",
    "    return keystore.sign(key, data)\n",
    "}\n",
    "\n",
    "let testIdentityA, testIdentityB;\n",
    "(async () => { \n",
    "    testIdentityA = await IdentityProvider.createIdentity(keystore, 'userA', identitySignerFn)\n",
    "    testIdentityB = await IdentityProvider.createIdentity(keystore, 'userB', identitySignerFn)\n",
    "    testIdentityC = await IdentityProvider.createIdentity(keystore, 'userC', identitySignerFn)\n",
    "})()"
   ]
  },
  {
   "cell_type": "markdown",
   "metadata": {},
   "source": [
    "## Usage\n",
    "\n",
    "With the following, we can create a minimum viable log:\n",
    "* a working IPFS node\n",
    "* access controller\n",
    "* an identity\n",
    "\n",
    "The full signature is \n",
    "\n",
    "```javascript\n",
    "new Log(ipfs, access, identity, [logId], [entries], [heads], [clock])\n",
    "```\n",
    "\n",
    "We'll more into the optional params now. For now, let's create a couple \"minimum viable\" logs.\n",
    "\n",
    "### Creating Logs"
   ]
  },
  {
   "cell_type": "code",
   "execution_count": 8,
   "metadata": {},
   "outputs": [],
   "source": [
    "var log = new Log(ipfs, testACL, testIdentityA)   \n",
    "var logAPI = new Log(ipfsapi, testACL, testIdentityB)"
   ]
  },
  {
   "cell_type": "markdown",
   "metadata": {},
   "source": [
    "If you don't supply a `logId`, the current javascript timestamp will be used."
   ]
  },
  {
   "cell_type": "code",
   "execution_count": 9,
   "metadata": {},
   "outputs": [
    {
     "data": {
      "text/plain": [
       "'1541822346589'"
      ]
     },
     "execution_count": 9,
     "metadata": {},
     "output_type": "execute_result"
    }
   ],
   "source": [
    "log.id"
   ]
  },
  {
   "cell_type": "markdown",
   "metadata": {},
   "source": [
    "If no log `entries` are specified, the log's `length` will be 0."
   ]
  },
  {
   "cell_type": "code",
   "execution_count": 10,
   "metadata": {},
   "outputs": [
    {
     "data": {
      "text/plain": [
       "0"
      ]
     },
     "execution_count": 10,
     "metadata": {},
     "output_type": "execute_result"
    }
   ],
   "source": [
    "logAPI.length"
   ]
  },
  {
   "cell_type": "markdown",
   "metadata": {},
   "source": [
    "`ipfs-log` uses Lamport Clocks, which are a type of vector clock. By tracking both the ID and timestamp of each entry, logs can be merged with other logs and still produce a unique, sorted, set of entries to be processed. This data type is compatible with any \"pure\" function. "
   ]
  },
  {
   "cell_type": "code",
   "execution_count": 11,
   "metadata": {},
   "outputs": [
    {
     "data": {
      "text/plain": [
       "LamportClock {\n",
       "  id:\n",
       "   '042750228c5d81653e5142e6a56d5551231649160f77b25797dc427f8a5b2afd650acca10182f0dfc519dc6d6e5216b9a6612dbfc56e906bdbf34ea373c92b30d7',\n",
       "  time: 0 }"
      ]
     },
     "execution_count": 11,
     "metadata": {},
     "output_type": "execute_result"
    }
   ],
   "source": [
    "log.clock"
   ]
  },
  {
   "cell_type": "code",
   "execution_count": 12,
   "metadata": {},
   "outputs": [
    {
     "data": {
      "text/plain": [
       "LamportClock {\n",
       "  id:\n",
       "   '04e9224ee3451772f3ad43068313dc5bdc6d3f2c9a8c3a6ba6f73a472d5f47a96ae6d776de13f2fc2076140fd68ca900df2ca4862b06192adbf8f8cb18a99d69aa',\n",
       "  time: 0 }"
      ]
     },
     "execution_count": 12,
     "metadata": {},
     "output_type": "execute_result"
    }
   ],
   "source": [
    "logAPI.clock"
   ]
  },
  {
   "cell_type": "markdown",
   "metadata": {},
   "source": [
    "### Creating Entries\n",
    "\n",
    "Now that we have our logs, let's create some entries!\n",
    "\n",
    "TODO: Entry Signature"
   ]
  },
  {
   "cell_type": "code",
   "execution_count": 13,
   "metadata": {},
   "outputs": [],
   "source": [
    "const Entry = require(\"./src/entry\")\n",
    "const Clock = require('./src/lamport-clock')"
   ]
  },
  {
   "cell_type": "markdown",
   "metadata": {},
   "source": [
    "### Adding entries at log creation\n",
    "\n",
    "\n",
    "By utilizng the first of our optional params, we can create a log with entries right from the start. Observe how the length and clock values change. Please note that with this method you have to _manually_ set the clock values for each entry."
   ]
  },
  {
   "cell_type": "code",
   "execution_count": 14,
   "metadata": {},
   "outputs": [
    {
     "name": "stdout",
     "output_type": "stream",
     "text": [
      "Swarm listening on /ip4/127.0.0.1/tcp/4003/ws/ipfs/QmTnrsWEWwXhAWP1YEKvC3qQUt3MYprXmTmoRmDY4bwwBj\n",
      "Swarm listening on /ip4/127.0.0.1/tcp/4002/ipfs/QmTnrsWEWwXhAWP1YEKvC3qQUt3MYprXmTmoRmDY4bwwBj\n",
      "Swarm listening on /ip4/10.1.10.127/tcp/4002/ipfs/QmTnrsWEWwXhAWP1YEKvC3qQUt3MYprXmTmoRmDY4bwwBj\n",
      "Swarm listening on /ip4/172.17.0.1/tcp/4002/ipfs/QmTnrsWEWwXhAWP1YEKvC3qQUt3MYprXmTmoRmDY4bwwBj\n"
     ]
    }
   ],
   "source": [
    "let log3;\n",
    "\n",
    "(async() => {\n",
    "    var entry1 = await Entry.create(ipfs, testIdentityC, 'C', 'entry1', [], new Clock('C', 0))\n",
    "    var entry2 = await Entry.create(ipfs, testIdentityC, 'C', 'entry2', [], new Clock('C', 1))\n",
    "    log3 = new Log(ipfs, testACL, testIdentityC, null, [entry1, entry2])\n",
    "})()"
   ]
  },
  {
   "cell_type": "code",
   "execution_count": 15,
   "metadata": {},
   "outputs": [
    {
     "data": {
      "text/plain": [
       "2"
      ]
     },
     "execution_count": 15,
     "metadata": {},
     "output_type": "execute_result"
    }
   ],
   "source": [
    "log3.length"
   ]
  },
  {
   "cell_type": "code",
   "execution_count": 16,
   "metadata": {},
   "outputs": [
    {
     "data": {
      "text/plain": [
       "LamportClock {\n",
       "  id:\n",
       "   '045d10320c2a75982d55e7e487db235341ac0a09a36252de6f3e959b9e249841a4bf4cfb909ec8c801ceeb0679586312e1830a753800ee351da54eb20e401df592',\n",
       "  time: 1 }"
      ]
     },
     "execution_count": 16,
     "metadata": {},
     "output_type": "execute_result"
    }
   ],
   "source": [
    "log3.clock"
   ]
  },
  {
   "cell_type": "markdown",
   "metadata": {},
   "source": [
    "### Adding entries after log creation\n",
    "\n",
    "Note that the clock in the entries will be ignored and are therefor not necessary for this method."
   ]
  },
  {
   "cell_type": "code",
   "execution_count": 17,
   "metadata": {},
   "outputs": [],
   "source": [
    "(async () => {\n",
    "    var entry3 = await Entry.create(ipfs, testIdentityC, 'C', 'entry3', [])\n",
    "    var entry4 = await Entry.create(ipfs, testIdentityC, 'C', 'entry4', [])\n",
    "    var entry5 = await Entry.create(ipfs, testIdentityC, 'C', 'entry5', [])\n",
    "    log3.append(entry3)\n",
    "    log3.append(entry4)\n",
    "    log3.append(entry5)\n",
    "})()"
   ]
  },
  {
   "cell_type": "code",
   "execution_count": 18,
   "metadata": {},
   "outputs": [
    {
     "data": {
      "text/plain": [
       "5"
      ]
     },
     "execution_count": 18,
     "metadata": {},
     "output_type": "execute_result"
    }
   ],
   "source": [
    "log3.length"
   ]
  },
  {
   "cell_type": "code",
   "execution_count": 20,
   "metadata": {},
   "outputs": [
    {
     "data": {
      "text/plain": [
       "LamportClock {\n",
       "  id:\n",
       "   '045d10320c2a75982d55e7e487db235341ac0a09a36252de6f3e959b9e249841a4bf4cfb909ec8c801ceeb0679586312e1830a753800ee351da54eb20e401df592',\n",
       "  time: 4 }"
      ]
     },
     "execution_count": 20,
     "metadata": {},
     "output_type": "execute_result"
    }
   ],
   "source": [
    "log3.clock"
   ]
  },
  {
   "cell_type": "code",
   "execution_count": 24,
   "metadata": {},
   "outputs": [
    {
     "data": {
      "text/plain": [
       "{ QmaDCbLDqxNN1GChsZj1NcS59VmHkJHEFJMmN2gYJqxGpN:\n",
       "   { hash: 'QmaDCbLDqxNN1GChsZj1NcS59VmHkJHEFJMmN2gYJqxGpN',\n",
       "     id: 'C',\n",
       "     payload: 'entry1',\n",
       "     next: [],\n",
       "     v: 0,\n",
       "     clock: LamportClock { id: 'C', time: 0 },\n",
       "     key:\n",
       "      '045d10320c2a75982d55e7e487db235341ac0a09a36252de6f3e959b9e249841a4bf4cfb909ec8c801ceeb0679586312e1830a753800ee351da54eb20e401df592',\n",
       "     identity:\n",
       "      { id: 'userC',\n",
       "        publicKey:\n",
       "         '045d10320c2a75982d55e7e487db235341ac0a09a36252de6f3e959b9e249841a4bf4cfb909ec8c801ceeb0679586312e1830a753800ee351da54eb20e401df592',\n",
       "        signatures: [Object],\n",
       "        type: [AsyncFunction: identitySignerFn] },\n",
       "     sig:\n",
       "      '30440220600400ab99a5552725c008660f7135731a83e4795f41c42e128fc8410a506a9602204603dab64bc12d2cc9e7330c10e45c6a6dbe7bb62cc830fdd0aac50e743e8ced' },\n",
       "  QmZ1o6MUxGLHLT7aJQufCmHkaV9eYBynNbkgsADyqn6AG9:\n",
       "   { hash: 'QmZ1o6MUxGLHLT7aJQufCmHkaV9eYBynNbkgsADyqn6AG9',\n",
       "     id: 'C',\n",
       "     payload: 'entry2',\n",
       "     next: [],\n",
       "     v: 0,\n",
       "     clock: LamportClock { id: 'C', time: 1 },\n",
       "     key:\n",
       "      '045d10320c2a75982d55e7e487db235341ac0a09a36252de6f3e959b9e249841a4bf4cfb909ec8c801ceeb0679586312e1830a753800ee351da54eb20e401df592',\n",
       "     identity:\n",
       "      { id: 'userC',\n",
       "        publicKey:\n",
       "         '045d10320c2a75982d55e7e487db235341ac0a09a36252de6f3e959b9e249841a4bf4cfb909ec8c801ceeb0679586312e1830a753800ee351da54eb20e401df592',\n",
       "        signatures: [Object],\n",
       "        type: [AsyncFunction: identitySignerFn] },\n",
       "     sig:\n",
       "      '30440220600400ab99a5552725c008660f7135731a83e4795f41c42e128fc8410a506a9602204603dab64bc12d2cc9e7330c10e45c6a6dbe7bb62cc830fdd0aac50e743e8ced' },\n",
       "  QmRwywvHc6xxvTYj73B2fgikg6WFTJ96G691PuWvk9Msyd:\n",
       "   { hash: 'QmRwywvHc6xxvTYj73B2fgikg6WFTJ96G691PuWvk9Msyd',\n",
       "     id: '1541822346949',\n",
       "     payload:\n",
       "      { hash: 'QmSc9c3ieN2bofWt926xGLdnoMfDNb3qFLwEQ3bvd1f4BR',\n",
       "        id: 'C',\n",
       "        payload: 'entry3',\n",
       "        next: [],\n",
       "        v: 0,\n",
       "        clock: [LamportClock],\n",
       "        key:\n",
       "         '045d10320c2a75982d55e7e487db235341ac0a09a36252de6f3e959b9e249841a4bf4cfb909ec8c801ceeb0679586312e1830a753800ee351da54eb20e401df592',\n",
       "        identity: [Object],\n",
       "        sig:\n",
       "         '30440220600400ab99a5552725c008660f7135731a83e4795f41c42e128fc8410a506a9602204603dab64bc12d2cc9e7330c10e45c6a6dbe7bb62cc830fdd0aac50e743e8ced' },\n",
       "     next:\n",
       "      [ 'QmaDCbLDqxNN1GChsZj1NcS59VmHkJHEFJMmN2gYJqxGpN',\n",
       "        'QmZ1o6MUxGLHLT7aJQufCmHkaV9eYBynNbkgsADyqn6AG9' ],\n",
       "     v: 0,\n",
       "     clock:\n",
       "      LamportClock {\n",
       "        id:\n",
       "         '045d10320c2a75982d55e7e487db235341ac0a09a36252de6f3e959b9e249841a4bf4cfb909ec8c801ceeb0679586312e1830a753800ee351da54eb20e401df592',\n",
       "        time: 2 },\n",
       "     key:\n",
       "      '045d10320c2a75982d55e7e487db235341ac0a09a36252de6f3e959b9e249841a4bf4cfb909ec8c801ceeb0679586312e1830a753800ee351da54eb20e401df592',\n",
       "     identity:\n",
       "      { id: 'userC',\n",
       "        publicKey:\n",
       "         '045d10320c2a75982d55e7e487db235341ac0a09a36252de6f3e959b9e249841a4bf4cfb909ec8c801ceeb0679586312e1830a753800ee351da54eb20e401df592',\n",
       "        signatures: [Object],\n",
       "        type: [AsyncFunction: identitySignerFn] },\n",
       "     sig:\n",
       "      '304402206222577914204dc090505e2bded4a17b318c0cd10d6d8f43a723a65a690f7964022001d9cece79c122736409189095a829b8602bb977acbb198cbb610448cd28f33f' },\n",
       "  QmaRFbfNM3qiZSw2HYWwxWyFcCdoT2spcRtvQCAzErnVus:\n",
       "   { hash: 'QmaRFbfNM3qiZSw2HYWwxWyFcCdoT2spcRtvQCAzErnVus',\n",
       "     id: '1541822346949',\n",
       "     payload:\n",
       "      { hash: 'QmY8krF9hJNT77FbDQ3gcjhjAMEGDQFU83hgDw1EByTXTa',\n",
       "        id: 'C',\n",
       "        payload: 'entry4',\n",
       "        next: [],\n",
       "        v: 0,\n",
       "        clock: [LamportClock],\n",
       "        key:\n",
       "         '045d10320c2a75982d55e7e487db235341ac0a09a36252de6f3e959b9e249841a4bf4cfb909ec8c801ceeb0679586312e1830a753800ee351da54eb20e401df592',\n",
       "        identity: [Object],\n",
       "        sig:\n",
       "         '30440220600400ab99a5552725c008660f7135731a83e4795f41c42e128fc8410a506a9602204603dab64bc12d2cc9e7330c10e45c6a6dbe7bb62cc830fdd0aac50e743e8ced' },\n",
       "     next:\n",
       "      [ 'QmaDCbLDqxNN1GChsZj1NcS59VmHkJHEFJMmN2gYJqxGpN',\n",
       "        'QmZ1o6MUxGLHLT7aJQufCmHkaV9eYBynNbkgsADyqn6AG9' ],\n",
       "     v: 0,\n",
       "     clock:\n",
       "      LamportClock {\n",
       "        id:\n",
       "         '045d10320c2a75982d55e7e487db235341ac0a09a36252de6f3e959b9e249841a4bf4cfb909ec8c801ceeb0679586312e1830a753800ee351da54eb20e401df592',\n",
       "        time: 3 },\n",
       "     key:\n",
       "      '045d10320c2a75982d55e7e487db235341ac0a09a36252de6f3e959b9e249841a4bf4cfb909ec8c801ceeb0679586312e1830a753800ee351da54eb20e401df592',\n",
       "     identity:\n",
       "      { id: 'userC',\n",
       "        publicKey:\n",
       "         '045d10320c2a75982d55e7e487db235341ac0a09a36252de6f3e959b9e249841a4bf4cfb909ec8c801ceeb0679586312e1830a753800ee351da54eb20e401df592',\n",
       "        signatures: [Object],\n",
       "        type: [AsyncFunction: identitySignerFn] },\n",
       "     sig:\n",
       "      '304402206222577914204dc090505e2bded4a17b318c0cd10d6d8f43a723a65a690f7964022001d9cece79c122736409189095a829b8602bb977acbb198cbb610448cd28f33f' },\n",
       "  QmUXpsd6v8AFkGoh2edcMFr1LryZuE5YoiFWDdbmCmHHiF:\n",
       "   { hash: 'QmUXpsd6v8AFkGoh2edcMFr1LryZuE5YoiFWDdbmCmHHiF',\n",
       "     id: '1541822346949',\n",
       "     payload:\n",
       "      { hash: 'QmajFpRamXdJAzofStxS47TLDkjqez5WZmp6wErA9PdrnJ',\n",
       "        id: 'C',\n",
       "        payload: 'entry5',\n",
       "        next: [],\n",
       "        v: 0,\n",
       "        clock: [LamportClock],\n",
       "        key:\n",
       "         '045d10320c2a75982d55e7e487db235341ac0a09a36252de6f3e959b9e249841a4bf4cfb909ec8c801ceeb0679586312e1830a753800ee351da54eb20e401df592',\n",
       "        identity: [Object],\n",
       "        sig:\n",
       "         '30440220600400ab99a5552725c008660f7135731a83e4795f41c42e128fc8410a506a9602204603dab64bc12d2cc9e7330c10e45c6a6dbe7bb62cc830fdd0aac50e743e8ced' },\n",
       "     next:\n",
       "      [ 'QmaDCbLDqxNN1GChsZj1NcS59VmHkJHEFJMmN2gYJqxGpN',\n",
       "        'QmZ1o6MUxGLHLT7aJQufCmHkaV9eYBynNbkgsADyqn6AG9' ],\n",
       "     v: 0,\n",
       "     clock:\n",
       "      LamportClock {\n",
       "        id:\n",
       "         '045d10320c2a75982d55e7e487db235341ac0a09a36252de6f3e959b9e249841a4bf4cfb909ec8c801ceeb0679586312e1830a753800ee351da54eb20e401df592',\n",
       "        time: 4 },\n",
       "     key:\n",
       "      '045d10320c2a75982d55e7e487db235341ac0a09a36252de6f3e959b9e249841a4bf4cfb909ec8c801ceeb0679586312e1830a753800ee351da54eb20e401df592',\n",
       "     identity:\n",
       "      { id: 'userC',\n",
       "        publicKey:\n",
       "         '045d10320c2a75982d55e7e487db235341ac0a09a36252de6f3e959b9e249841a4bf4cfb909ec8c801ceeb0679586312e1830a753800ee351da54eb20e401df592',\n",
       "        signatures: [Object],\n",
       "        type: [AsyncFunction: identitySignerFn] },\n",
       "     sig:\n",
       "      '304402206222577914204dc090505e2bded4a17b318c0cd10d6d8f43a723a65a690f7964022001d9cece79c122736409189095a829b8602bb977acbb198cbb610448cd28f33f' } }"
      ]
     },
     "execution_count": 24,
     "metadata": {},
     "output_type": "execute_result"
    }
   ],
   "source": [
    "log3._entryIndex"
   ]
  },
  {
   "cell_type": "code",
   "execution_count": null,
   "metadata": {},
   "outputs": [],
   "source": [
    "// Direct-access Properties\n",
    "// console.log(log._storage.id().then(console.log)) // The IPFS instance\n",
    "// console.log(log._access) // AccessController\n",
    "// console.log(log._identity) // Identity (testIdentity)\n",
    "// console.log(log._entryIndex) // {} to start\n",
    "// console.log(log._headsIndex) // {} to start\n",
    "// console.log(log._nextsIndex) // {} to start"
   ]
  },
  {
   "cell_type": "markdown",
   "metadata": {},
   "source": [
    "## API Documentation\n",
    "\n",
    "### Required:\n",
    "* `entries`\n",
    "* `heads`\n",
    "\n",
    "\n",
    "### API Documentation\n",
    "* Log\n",
    "  * Constructor\n",
    "  * get\n",
    "  * has\n",
    "  * traverse\n",
    "  * append\n",
    "  * join\n",
    "  * toJSON\n",
    "  * toSnapshot\n",
    "  * toBuffer\n",
    "  * toString\n",
    "  * isLog\n",
    "  * toMultihash\n",
    "  * fromMultihash\n",
    "  * fromEntryhash\n",
    "  * fromJSON\n",
    "  * fromEntry\n",
    "  * findHeads\n",
    "  * findTails\n",
    "  * findTailHashes\n",
    "  * difference\n",
    "* LogIO\n",
    "  * toMultiHash\n",
    "  * fromMultiHash\n",
    "  * fromEntryHash\n",
    "  * fromJSON\n",
    "  * fromEntry\n",
    "* LamportClock\n",
    "  * constructor\n",
    "  * tick\n",
    "  * merge\n",
    "  * clone\n",
    "  * compare\n",
    "* Entry\n",
    "  * create\n",
    "  * verify\n",
    "  * toBuffer\n",
    "  * toMultiHash\n",
    "  * fromMultiHash\n",
    "  * isEntry\n",
    "  * compare\n",
    "  * isEqual\n",
    "  * isParent\n",
    "  * findChildren\n",
    "* EntryIO\n",
    "  * fetchParallel\n",
    "  * fetchAll\n",
    "\n",
    "* Utility Functions\n",
    "  * (src/log-sorting.js) LastWriteWins\n",
    "  * (src/log-sorting.js) SortByClocks\n",
    "  * (src/log-sorting.js) SortByClockId\n",
    "  * (src/utils/difference.js) difference\n",
    "  * (src/utils/find-uniques.js) findUniques\n",
    "  * (src/utils/intersection.js) intersection\n",
    "  * (src/utils/is-defined.js) is-defined\n",
    "\n",
    "* Errors\n",
    "  * IPFSNotDefinedError\n",
    "  * LogNotDefinedError\n",
    "  * NotALogError\n"
   ]
  },
  {
   "cell_type": "markdown",
   "metadata": {},
   "source": [
    "## API Documentation\n",
    "\n",
    "# Log\n",
    "\n",
    "\n",
    "\n",
    "### Properties\n",
    "\n",
    "#### id\n",
    "\n",
    "Returns the ID of the log.\n",
    "\n",
    "#### values\n",
    "\n",
    "Returns an `Array` of [entries](https://github.com/haadcode/ipfs-log/blob/master/src/entry.js) in the log.\n",
    " The values are in linearized order according to their [Lamport clocks](https://en.wikipedia.org/wiki/Lamp\n",
    "ort_timestamps).\n",
    "\n",
    "```javascript\n",
    "const values = log.values\n",
    "// TODO: output example\n",
    "```\n",
    "\n",
    "#### length\n",
    "\n",
    "Returns the number of entries in the log.\n",
    "\n",
    "#### clock\n",
    "\n",
    "Returns the current timestamp of the log.\n",
    "\n",
    "#### heads\n",
    "\n",
    "Returns the heads of the log. Heads are the entries that are not referenced by other entries in the log.\n",
    "\n",
    "```javascript\n",
    "const heads = log.heads\n",
    "// TODO: output example\n",
    "```\n",
    "\n",
    "#### tails\n",
    "\n",
    "Return the tails of the log. Tails are the entries that reference other entries that are not in the log.\n",
    "\n",
    "```javascript\n",
    "const tails = log.tails\n",
    "// TODO: output example\n",
    "```\n",
    "\n",
    "### Methods\n",
    "\n",
    "#### append(data)\n",
    "\n",
    "Append an entry to the log. Returns a *Promise* that resolves to the updated `Log`.\n",
    "\n",
    "`ipfs` IPFS instance.\n",
    "\n",
    "`log` Log to append to.\n",
    "\n",
    "`data` can be any type of data: Number, String, Object, etc. It can also be an instance of [Entry](https:/\n",
    "/github.com/haadcode/ipfs-log/blob/master/src/entry.js).\n",
    "\n",
    "```javascript\n",
    "log.append({ some: 'data' })\n",
    "  .then(log => log.append('text'))\n",
    "  .then(log => console.log(log.values))\n",
    "\n",
    "// [\n",
    "//   {\n",
    "//     hash: 'QmV1KFxZnaguPFp57PMXz5Dd1tf6z9U8csJQoy4xWDzzts',\n",
    "//     id: 'A',\n",
    "//     payload: { some: 'data' },\n",
    "//     next: [],\n",
    "//     v: 0,\n",
    "//     clock: LamportClock { id: 'A', time: 0 }\n",
    "//   },\n",
    "//   { hash: 'QmSxe4Shd7jt4ExyoBjtvgi1UabNKrZfRJKptwUmSa843u',\n",
    "//     id: 'A',\n",
    "//     payload: 'text',\n",
    "//     next: [ 'QmV1KFxZnaguPFp57PMXz5Dd1tf6z9U8csJQoy4xWDzzts' ],\n",
    "//     v: 0,\n",
    "//     clock: LamportClock { id: 'A', time: 1 }\n",
    "//   }\n",
    "// ]\n",
    "```\n",
    "\n",
    "#### join(log, [length], [id])\n",
    "\n",
    "Join the log with another log. Returns a Promise that resolves to a `Log` instance. The size of the joined\n",
    " log can be specified by giving `length` argument.\n",
    "\n",
    "```javascript\n",
    "// log1.values ==> ['A', 'B', 'C']\n",
    "// log2.values ==> ['C', 'D', 'E']\n",
    "\n",
    "log1.join(log2)\n",
    "  .then(() => console.log(log1.values))\n",
    "// ['A', 'B', 'C', 'D', 'E']\n",
    "```\n",
    "\n",
    "### toMultihash()\n",
    "\n",
    "Writes the log to IPFS and returns the Multihash of the log. Returns a `Promise` that resolves to a Base58\n",
    " encoded `string`.\n",
    "\n",
    "```javascript\n",
    "log1.toMultihash()\n",
    "  .then(hash => console.log(hash))\n",
    "\n",
    "// QmSUrxz12UDsuuQMjzBQ4NDGyYprhFJbQefgeRiomQ5j6T\n",
    "```\n",
    "\n",
    "### toBuffer()\n",
    "\n",
    "Converts the log to a `Buffer` that contains the log as JSON.stringified `string`. Returns a `Buffer`.\n",
    "\n",
    "```javascript\n",
    "const buffer = log1.toBuffer()\n",
    "```\n",
    "\n",
    "### toString\n",
    "\n",
    "Returns the log values as a nicely formatted string.\n",
    "\n",
    "```javascript\n",
    "console.log(log.toString())\n",
    "// two\n",
    "// └─one\n",
    "//   └─three\n",
    "```\n",
    "\n",
    "## Static methods\n",
    "\n",
    "#### Log.isLog(log)\n",
    "\n",
    "Check if an object is a `Log` instance.\n",
    "\n",
    "```javascript\n",
    "Log.isLog(log1)\n",
    "// true\n",
    "Log.isLog('hello')\n",
    "// false\n",
    "```\n",
    "\n",
    "#### Log.expand(ipfs, log, [amount=-1])\n",
    "\n",
    "Expands a `log` by `amount` by retreiving more entries from the tails of the log. Returns a new `Log` inst\n",
    "ance.\n",
    "\n",
    "Expanding a log will retrieve new entries from IPFS, thus causing side effects.\n",
    "\n",
    "#### Log.expandFrom(ipfs, log, entries, [amount=-1])\n",
    "\n",
    "Expand a `log` by `amount` by retrieving more entries starting from `entries`. `entries` is an `Array` of\n",
    "`Entry` instances. Returns a new `Log` instance.\n",
    "\n",
    "Expanding a log will retrieve new entries from IPFS, thus causing side effects.\n",
    "\n",
    "#### Log.fromEntry(ipfs, entry, [length=-1])\n",
    "\n",
    "Create a `Log` from an `Entry`.\n",
    "\n",
    "Creating a log from an entry will retrieve entries from IPFS, thus causing side effects.\n",
    "\n",
    "#### Log.toMultihash(ipfs, log)\n",
    "\n",
    "Returns the multihash of the log.\n",
    "\n",
    "Converting the log to a multihash will persist the log to IPFS, thus causing side effects.\n",
    "\n",
    "#### Log.fromMultihash(ipfs, multihash, [length=-1])\n",
    "\n",
    "Create a `Log` from a multihash.\n",
    "\n",
    "Creating a log from a multihash will retrieve entries from IPFS, thus causing side effects."
   ]
  }
 ],
 "metadata": {
  "kernelspec": {
   "display_name": "Javascript (Node.js)",
   "language": "javascript",
   "name": "javascript"
  },
  "language_info": {
   "file_extension": ".js",
   "mimetype": "application/javascript",
   "name": "javascript",
   "version": "10.8.0"
  }
 },
 "nbformat": 4,
 "nbformat_minor": 2
}
