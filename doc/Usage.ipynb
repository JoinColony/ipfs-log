{
 "cells": [
  {
   "cell_type": "markdown",
   "metadata": {},
   "source": [
    "> For more information how to run the Jupyter notebooks and our overall philosophy regarding interactive docs, read more here. (TODO)"
   ]
  },
  {
   "cell_type": "markdown",
   "metadata": {},
   "source": [
    "# `ipfs-log`"
   ]
  },
  {
   "cell_type": "code",
   "execution_count": 1,
   "metadata": {},
   "outputs": [],
   "source": [
    "const Log = require(\"../src/log\") // const Log = require(\"ipfs-log\") elsewhere"
   ]
  },
  {
   "cell_type": "markdown",
   "metadata": {},
   "source": [
    "## Intro\n",
    "\n",
    "The `Log` provided by the `ipfs-log` package is an implementation of a Conflict-Free Replicated Data Type (CRDT) that utilizes the Interplanetary File System (IPFS) as a storage backend. The functionality in this package forms the backbone of [`orbit-db`](https://github.com/orbitdb/orbit-db)."
   ]
  },
  {
   "cell_type": "markdown",
   "metadata": {},
   "source": [
    "## Table of Contents\n",
    "\n",
    "1. [Top](#)\n",
    "  1. [Intro](#Intro)\n",
    "  2. [Nomenclature and Concepts](#Nomenclature-and-Concepts)\n",
    "2. [Prerequisites](#Prerequisites)\n",
    "  1. [IPFS Node](#IPFS-Node)\n",
    "  2. [Access Controller](#Access-Controller)\n",
    "  3. [Identity](#Identity)\n",
    "3. [Usage](#Usage)\n",
    "  1. [Creating Logs](#Creating-Logs)\n",
    "  3. [Manipulating Logs](#Manipulating-Logs)\n",
    "  4. [Joining Logs](#Joining-Logs)\n",
    "4. [API Documentation](#API-Documentation)\n",
    "  1. [Log](#Log)"
   ]
  },
  {
   "cell_type": "markdown",
   "metadata": {},
   "source": [
    "## Nomenclature and Concepts\n",
    "\n",
    "### Conflict-Free Replicated Data Type (CRDT)\n",
    "\n",
    "A **Conflict-Free Replicated Data Type** is a type of log that solves the problem of locally storing, and ultimately merging, distrubuted data sets to other distributed data sets<sup>1</sup>. It allows users to perform operations on *local* databases with the intent of merging or joining those data with the data stored on the devices of other peers in the network.\n",
    "\n",
    "### Lamport Clock\n",
    "\n",
    "To achieve successful merging - merging that is properly *associative* - entries are timestamped with something called a Lamport Clock<sup>2</sup>. The timestamp of each entry is a pair of values: a _logical clock_ counter of the entry (as opposed to _wall clock_), and an identifier of the user or device that generated the entry.\n",
    "\n",
    "In the case of `ipfs-log`, the identifier is the public key of the IPFS node where the entries are initially generated.\n",
    "\n",
    "```javascript\n",
    "// Lamport Clock Object\n",
    "{\n",
    "  id: '042750228c5d81653e5142e6a56d55...e5216b9a6612dbfc56e906bdbf34ea373c92b30d7',\n",
    "  time: 0\n",
    "}\n",
    "```"
   ]
  },
  {
   "cell_type": "markdown",
   "metadata": {},
   "source": [
    "### Heads and Tails\n",
    "\n",
    "Heads and Tails are important concepts in terms of CRDTs, and many people require a bit of explanation before fully understanding the concept and its implications.\n",
    "\n",
    "### Heads\n",
    "\n",
    "The **head** of a log is an entry that is not referenced by any other entry. Practically speaking, these are the latest entries being appended to a log or logs.\n",
    "\n",
    "This is best understood by example, observing how the heads change over time. In the following examples, circles are entries, green circles are heads, and arrows denote the pointers contained in the entry, to the previous record.\n",
    "\n",
    "Let's start with the simplest example - a single user writing entries to a single log.\n",
    "\n",
    "![Single Node CRDT over time, Simplest Example](./single-node-log-over-time.png)\n",
    "\n",
    "However, we are not in the business of single-device / single-user logs, so let's imagine the following scenario in an attempt to find the least-complex, but still _complete_ example of how the heads would work over time.\n",
    "\n",
    "First, in plain words and some pseudocode:\n",
    "\n",
    "1. User 1 starts a Log (`log1 = new Log`)\n",
    "2. User 2 starts a Log (`log2 = new Log`)\n",
    "3. User 1 adds two entries to the log (`log1.append`)\n",
    "4. User 2 merges that log with their own (`log2.join(log1)`)\n",
    "5. User 1 adds two more entries (`log1.append`)\n",
    "6. User 2 adds an entry (`log2.append`)\n",
    "7. User 2 merges the log again (`log2.join`)\n",
    "8. User 2 adds one more entry (`log2.append`)\n",
    "\n",
    "Now in a diagram:\n",
    "\n",
    "![Multiple Node CRDT over time, Least-Complex Example](./multiple-nodes-log-over-time.png)\n",
    "\n",
    "We can then see how it's possible that a CRDT may have more than one head entry (maybe hundreds) and how those entries change over time with multiple users.\n",
    "\n",
    "### Tails\n",
    "\n",
    "A CRDT of any size can be stored in IPFS. However, When performing computations on the data, it needs to be loaded into an \"input array\" (i.e. subset of the log) that exists in a finite memory space. The **tails** of such a log point to entries that are not in the input array.\n",
    "\n",
    "For our example, let's imagine a log with hundreds of millions of entries. You don't have access to a supercomputing center so tt's not feasible to load the log into memory. Thus, we use a partial traversal of the log, the **tails** of which contain the pointers to the next records to be traversed, if we so choose.\n",
    "\n",
    "This concept is visualized below, with the dim entries signifying non-traversed, and the orange entries signifying tails.\n",
    "\n",
    "![Tails Example](./tails-example.png)"
   ]
  },
  {
   "cell_type": "markdown",
   "metadata": {},
   "source": [
    "### G-Set\n",
    "\n",
    "`ipfs-log` specifically uses a G-Set CRDT, which in practice means append-only with no deletetion.\n",
    "\n",
    "```javascript\n",
    "class GSet {\n",
    "  constuctor (values) {}\n",
    "  append (value) {}\n",
    "  merge (set) {}\n",
    "  get (value) {}\n",
    "  has (value) {}\n",
    "  get values () {}\n",
    "  get length () {}\n",
    "}\n",
    "```\n",
    "\n",
    "#### References\n",
    "\n",
    "1. https://citemaster.net/get/10b50274-7bc5-11e5-8aa1-00163e009cc7/p558-lamport.pdf\n",
    "2. https://hal.inria.fr/inria-00555588"
   ]
  },
  {
   "cell_type": "markdown",
   "metadata": {},
   "source": [
    "## Prerequisites\n",
    "\n",
    "For a minimum viable `ipfs-log`, you need three things: a running IPFS node, an access controller, and an identity.\n",
    "\n",
    "### IPFS Node\n",
    "\n",
    "For our examples, we'll switch between a node.js [`js-ipfs`](https://github.com/ipfs/js-ipfs) instance, and a go node using [`js-ipfs-api`](https://github.com/ipfs/js-ipfs-api)."
   ]
  },
  {
   "cell_type": "code",
   "execution_count": null,
   "metadata": {},
   "outputs": [],
   "source": [
    "const IPFS = require(\"ipfs\")\n",
    "const IpfsApi = require(\"ipfs-api\")"
   ]
  },
  {
   "cell_type": "code",
   "execution_count": null,
   "metadata": {},
   "outputs": [],
   "source": [
    "// Default config\n",
    "var ipfs = new IPFS()\n",
    "var ipfsapi = new IpfsApi(\"localhost\", 5001)"
   ]
  },
  {
   "cell_type": "markdown",
   "metadata": {},
   "source": [
    "^ Always a good sign.\n",
    "\n",
    "### Access Controller\n",
    "\n",
    "TODO: Details"
   ]
  },
  {
   "cell_type": "code",
   "execution_count": null,
   "metadata": {},
   "outputs": [],
   "source": [
    "const AccessController = require('./src/default-access-controller')"
   ]
  },
  {
   "cell_type": "code",
   "execution_count": null,
   "metadata": {},
   "outputs": [],
   "source": [
    "var testACL = new AccessController()"
   ]
  },
  {
   "cell_type": "markdown",
   "metadata": {},
   "source": [
    "### Identity\n",
    "\n",
    "TODO: Details\n"
   ]
  },
  {
   "cell_type": "code",
   "execution_count": null,
   "metadata": {},
   "outputs": [],
   "source": [
    "const IdentityProvider = require('orbit-db-identity-provider')\n",
    "const Keystore = require('orbit-db-keystore')"
   ]
  },
  {
   "cell_type": "code",
   "execution_count": null,
   "metadata": {},
   "outputs": [],
   "source": [
    "const keystore = Keystore.create(\"./test/fixtures/keys\")\n",
    "const identitySignerFn = async (id, data) => {\n",
    "    const key = await keystore.getKey(id)\n",
    "    return keystore.sign(key, data)\n",
    "}\n",
    "\n",
    "let testIdentityA, testIdentityB;\n",
    "(async () => { \n",
    "    testIdentityA = await IdentityProvider.createIdentity(keystore, 'userA', identitySignerFn)\n",
    "    testIdentityB = await IdentityProvider.createIdentity(keystore, 'userB', identitySignerFn)\n",
    "    testIdentityC = await IdentityProvider.createIdentity(keystore, 'userC', identitySignerFn)\n",
    "})()"
   ]
  },
  {
   "cell_type": "markdown",
   "metadata": {},
   "source": [
    "## Usage\n",
    "\n",
    "With the following, we can create a minimum viable log:\n",
    "* a working IPFS node\n",
    "* access controller\n",
    "* an identity\n",
    "\n",
    "The full signature is \n",
    "\n",
    "```javascript\n",
    "new Log(ipfs, access, identity, [logId], [entries], [heads], [clock])\n",
    "```\n",
    "\n",
    "We'll more into the optional params now. For now, let's create a couple \"minimum viable\" logs.\n",
    "\n",
    "### Creating Logs"
   ]
  },
  {
   "cell_type": "code",
   "execution_count": null,
   "metadata": {},
   "outputs": [],
   "source": [
    "var log = new Log(ipfs, testACL, testIdentityA)   \n",
    "var log2 = new Log(ipfsapi, testACL, testIdentityB)"
   ]
  },
  {
   "cell_type": "markdown",
   "metadata": {},
   "source": [
    "If you don't supply a `logId`, the current javascript timestamp will be used."
   ]
  },
  {
   "cell_type": "code",
   "execution_count": null,
   "metadata": {},
   "outputs": [],
   "source": [
    "log.id"
   ]
  },
  {
   "cell_type": "markdown",
   "metadata": {},
   "source": [
    "If no log `entries` are specified, the log's `length` will be 0."
   ]
  },
  {
   "cell_type": "code",
   "execution_count": null,
   "metadata": {},
   "outputs": [],
   "source": [
    "log2.length"
   ]
  },
  {
   "cell_type": "markdown",
   "metadata": {},
   "source": [
    "`ipfs-log` uses Lamport Clocks, which are a type of vector clock. By tracking both the ID and timestamp of each entry, logs can be merged with other logs and still produce a unique, sorted, set of entries to be processed. This data type is compatible with any \"pure\" function. "
   ]
  },
  {
   "cell_type": "code",
   "execution_count": null,
   "metadata": {},
   "outputs": [],
   "source": [
    "log.clock"
   ]
  },
  {
   "cell_type": "code",
   "execution_count": null,
   "metadata": {},
   "outputs": [],
   "source": [
    "log2.clock"
   ]
  },
  {
   "cell_type": "markdown",
   "metadata": {},
   "source": [
    "### Manipulating Logs\n",
    "\n",
    "Now that we have our logs, let's create some entries!\n",
    "\n",
    "TODO: Entry Signature"
   ]
  },
  {
   "cell_type": "code",
   "execution_count": null,
   "metadata": {},
   "outputs": [],
   "source": [
    "const Entry = require(\"./src/entry\")\n",
    "const Clock = require('./src/lamport-clock')"
   ]
  },
  {
   "cell_type": "markdown",
   "metadata": {},
   "source": [
    "### Adding entries at log creation\n",
    "\n",
    "\n",
    "By utilizng the first of our optional params, we can create a log with entries right from the start. Observe how the length and clock values change. Please note that with this method you have to _manually_ set the clock values for each entry."
   ]
  },
  {
   "cell_type": "code",
   "execution_count": null,
   "metadata": {},
   "outputs": [],
   "source": [
    "let log3;\n",
    "\n",
    "(async() => {\n",
    "    var entry1 = await Entry.create(ipfs, testIdentityC, 'C', 'entry1', [], new Clock('C', 0))\n",
    "    var entry2 = await Entry.create(ipfs, testIdentityC, 'C', 'entry2', [], new Clock('C', 1))\n",
    "    log3 = new Log(ipfs, testACL, testIdentityC, null, [entry1, entry2])\n",
    "})()"
   ]
  },
  {
   "cell_type": "code",
   "execution_count": null,
   "metadata": {},
   "outputs": [],
   "source": [
    "log3.length"
   ]
  },
  {
   "cell_type": "code",
   "execution_count": null,
   "metadata": {},
   "outputs": [],
   "source": [
    "log3.clock"
   ]
  },
  {
   "cell_type": "markdown",
   "metadata": {},
   "source": [
    "### Adding entries after log creation\n",
    "\n",
    "Note that the clock in the entries will be ignored and are therefor not necessary for this method."
   ]
  },
  {
   "cell_type": "code",
   "execution_count": null,
   "metadata": {},
   "outputs": [],
   "source": [
    "(async () => {\n",
    "    var entry3 = await Entry.create(ipfs, testIdentityC, 'C', 'entry3', [])\n",
    "    var entry4 = await Entry.create(ipfs, testIdentityC, 'C', 'entry4', [])\n",
    "    var entry5 = await Entry.create(ipfs, testIdentityC, 'C', 'entry5', [])\n",
    "    log3.append(entry3)\n",
    "    log3.append(entry4)\n",
    "    log3.append(entry5)\n",
    "})()"
   ]
  },
  {
   "cell_type": "code",
   "execution_count": null,
   "metadata": {},
   "outputs": [],
   "source": [
    "log3.length"
   ]
  },
  {
   "cell_type": "code",
   "execution_count": null,
   "metadata": {},
   "outputs": [],
   "source": [
    "log3.clock"
   ]
  },
  {
   "cell_type": "markdown",
   "metadata": {},
   "source": [
    "### Joining Logs\n",
    "\n",
    "TODO: Show the magic"
   ]
  }
 ],
 "metadata": {
  "kernelspec": {
   "display_name": "Javascript (Node.js)",
   "language": "javascript",
   "name": "javascript"
  },
  "language_info": {
   "file_extension": ".js",
   "mimetype": "application/javascript",
   "name": "javascript",
   "version": "10.8.0"
  }
 },
 "nbformat": 4,
 "nbformat_minor": 2
}
