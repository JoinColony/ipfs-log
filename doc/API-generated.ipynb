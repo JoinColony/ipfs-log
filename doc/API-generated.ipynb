{
 "cells": [
  {
   "cell_type": "markdown",
   "metadata": {},
   "source": [
    "# Log <small>global class</small>\n",
    "Log implements a G-Set CRDT and adds ordering\n",
    "Create a new Log instance\n",
    "\n",
    "From:\n",
    "\"A comprehensive study of Convergent and Commutative Replicated Data Types\"\n",
    "https://hal.inria.fr/inria-00555588\n",
    "* **ipfs**  IPFS An IPFS instance\n",
    "* **access**  Object AccessController (./default-access-controller)\n",
    "* **identity**  Object Identity (https://github.com/orbitdb/orbit-db-identity-provider/blob/master/src/identity.js)\n",
    "* **logId**  String ID of the log\n",
    "* **entries**  Array.<Entry> An Array of Entries from which to create the log\n",
    "* **heads**  Array.<Entry> Set the heads of the log\n",
    "* **clock**  Clock Set the clock of the log\n",
    "\n",
    "**Returns:  Log** - Log"
   ]
  },
  {
   "cell_type": "code",
   "execution_count": 0,
   "metadata": {},
   "outputs": [],
   "source": [
    "const IPFS = require(\"ipfs\")\n",
    "const Log = require(\"../src/log\")\n",
    "const { AccessController, IdentityProvider } = require(\"../src/log\")\n",
    "const Keystore = require('orbit-db-keystore')\n",
    "const Entry = require(\"../src/entry\")\n",
    "const Clock = require('../src/lamport-clock')\n",
    "\n",
    "const accessController = new AccessController()\n",
    "const ipfs = new IPFS();\n",
    "const keystore = Keystore.create(\"../test/fixtures/keys\")\n",
    "const identitySignerFn = async (id, data) => {\n",
    "  const key = await keystore.getKey(id)\n",
    "  return keystore.sign(key, data)\n",
    "}\n",
    "\n",
    "(async () => {\n",
    "  var identity = await IdentityProvider.createIdentity(keystore, 'username', identitySignerFn)\n",
    "  var log = new Log(ipfs, accessController, identity)\n",
    "\n",
    "  // console.log(Object.keys(log))\n",
    "})()"
   ]
  },
  {
   "cell_type": "markdown",
   "metadata": {},
   "source": [
    "# Log#id <small>instance member</small>\n",
    "Returns the ID of the log\n",
    "\n",
    "**Returns:  string** - the ID of the log"
   ]
  },
  {
   "cell_type": "code",
   "execution_count": 0,
   "metadata": {},
   "outputs": [],
   "source": [
    "(async () => {\n",
    "  var identity = await IdentityProvider.createIdentity(keystore, 'username', identitySignerFn)\n",
    "  var log = new Log(ipfs, accessController, identity)\n",
    "  console.log(log.id) // default uses JS microtime\n",
    "\n",
    "  var log2 = new Log(ipfs, accessController, identity, \"MyLogID\")\n",
    "  console.log(log2.id) // or you can specify your own\n",
    "})()"
   ]
  },
  {
   "cell_type": "markdown",
   "metadata": {},
   "source": [
    "# Log#clock <small>instance member</small>\n",
    "Returns the clock of the log\n",
    "\n",
    "**Returns:  string** - The log's LamportClock"
   ]
  },
  {
   "cell_type": "code",
   "execution_count": 0,
   "metadata": {},
   "outputs": [],
   "source": [
    "(async () => {\n",
    "  var identity = await IdentityProvider.createIdentity(keystore, 'username', identitySignerFn)\n",
    "  var log = new Log(ipfs, accessController, identity)\n",
    "  console.log(log.clock)\n",
    "})()"
   ]
  },
  {
   "cell_type": "markdown",
   "metadata": {},
   "source": [
    "# Log#length <small>instance member</small>\n",
    "Returns the length of the log\n",
    "\n",
    "**Returns:  Number** - length of the log"
   ]
  },
  {
   "cell_type": "code",
   "execution_count": 0,
   "metadata": {},
   "outputs": [],
   "source": [
    "(async () => {\n",
    "  var identity = await IdentityProvider.createIdentity(keystore, 'username', identitySignerFn)\n",
    "  var log = new Log(ipfs, accessController, identity)\n",
    "  console.log(log.length)\n",
    "\n",
    "  var entry = await Entry.create(ipfs, identity, '1', 'entry1', [], new Clock('1', 0))\n",
    "  await log.append(entry)\n",
    "  console.log(log.length)\n",
    "})()"
   ]
  },
  {
   "cell_type": "markdown",
   "metadata": {},
   "source": [
    "# Log#values <small>instance member</small>\n",
    "Returns the values in the log\n",
    "\n",
    "**Returns:  Array.<Entry>** - all values of the log sorted by LastWriteWins"
   ]
  },
  {
   "cell_type": "code",
   "execution_count": 0,
   "metadata": {},
   "outputs": [],
   "source": [
    "(async () => {\n",
    "  var identity = await IdentityProvider.createIdentity(keystore, 'username', identitySignerFn)\n",
    "  var log = new Log(ipfs, accessController, identity)\n",
    "\n",
    "  var entry = await Entry.create(ipfs, identity, '1', 'entry1', [], new Clock('1', 0))\n",
    "  await log.append(entry)\n",
    "  console.log(log.values.map(e => e.payload.payload)\n",
    "})()"
   ]
  },
  {
   "cell_type": "markdown",
   "metadata": {},
   "source": [
    "# Log#heads <small>instance member</small>\n",
    "Returns an array of heads as multihashes\n",
    "\n",
    "**Returns:  Array.<string>** - values of the log head(s)"
   ]
  },
  {
   "cell_type": "code",
   "execution_count": 0,
   "metadata": {},
   "outputs": [],
   "source": [
    "(async () => {\n",
    "  var identity1 = await IdentityProvider.createIdentity(keystore, 'username', identitySignerFn)\n",
    "  var identity2 = await IdentityProvider.createIdentity(keystore, 'username', identitySignerFn)\n",
    "\n",
    "  var log1 = new Log(ipfs, accessController, identity1)\n",
    "  var log2 = new Log(ipfs, accessController, identity2)\n",
    "\n",
    "  await log1.append(\"entryA1\")\n",
    "  await log1.append(\"entryA2\")\n",
    "  await log1.append(\"entryA3\")\n",
    "\n",
    "  await log2.append(\"entryB1\")\n",
    "  await log2.append(\"entryB2\")\n",
    "\n",
    "  await log1.join(log2)\n",
    "\n",
    "  console.log(log1.heads.map(e => e.payload))\n",
    "})()"
   ]
  },
  {
   "cell_type": "markdown",
   "metadata": {},
   "source": [
    "# Log#tails <small>instance member</small>\n",
    "**Note: May be deprecated**\n",
    "\n",
    "Returns an array of Entry objects that reference entries which\n",
    "are not in the log currently\n",
    "\n",
    "**Returns:  Array.<Entry>** - values of the log tail(s)s"
   ]
  },
  {
   "cell_type": "code",
   "execution_count": 0,
   "metadata": {},
   "outputs": [],
   "source": [
    "(async () => {\n",
    "  var identity = await IdentityProvider.createIdentity(keystore, 'username', identitySignerFn)\n",
    "  var log = new Log(ipfs, accessController, identity)\n",
    "})()"
   ]
  },
  {
   "cell_type": "markdown",
   "metadata": {},
   "source": [
    "# Log#tailHashes <small>instance member</small>\n",
    "**Note: May be deprecated**\n",
    "\n",
    "Returns an array of multihashes that are referenced by entries which\n",
    "are not in the log currently\n",
    "\n",
    "**Returns:  Array.<string>** - Array of multihashes"
   ]
  },
  {
   "cell_type": "code",
   "execution_count": 0,
   "metadata": {},
   "outputs": [],
   "source": [
    "(async () => {\n",
    "  var identity = await IdentityProvider.createIdentity(keystore, 'username', identitySignerFn)\n",
    "  var log = new Log(ipfs, accessController, identity)\n",
    "})()"
   ]
  },
  {
   "cell_type": "markdown",
   "metadata": {},
   "source": [
    "# Log#get <small>instance function</small>\n",
    "Find an entry\n",
    "* **hash**  string The Multihash of the entry as Base58 encoded string\n",
    "\n",
    "**Returns:  Entry undefined** - hash of the entry index"
   ]
  },
  {
   "cell_type": "code",
   "execution_count": 0,
   "metadata": {},
   "outputs": [],
   "source": [
    "(async () => {\n",
    "  var identity = await IdentityProvider.createIdentity(keystore, 'username', identitySignerFn)\n",
    "  var log = new Log(ipfs, accessController, identity)\n",
    "\n",
    "  await log.append(\"entry1\")\n",
    "  await log.append(\"entry2\")\n",
    "  await log.append(\"entry3\")\n",
    "\n",
    "  var hash = Object.keys(log._entryIndex)[1]\n",
    "  console.log(log.get(hash).payload)\n",
    "})()"
   ]
  },
  {
   "cell_type": "markdown",
   "metadata": {},
   "source": [
    "# Log#has <small>instance function</small>\n",
    "Verify that the log contains the entry you're seeking\n",
    "* **entry**  Entry the entry you're looking to verify\n",
    "\n",
    "**Returns:  Boolean** - `true` or `false` if the log contains the entry"
   ]
  },
  {
   "cell_type": "code",
   "execution_count": 0,
   "metadata": {},
   "outputs": [],
   "source": [
    "(async () => {\n",
    "  var identity = await IdentityProvider.createIdentity(keystore, 'username', identitySignerFn)\n",
    "  var log = new Log(ipfs, accessController, identity)\n",
    "\n",
    "  await log.append(\"entry1\")\n",
    "  await log.append(\"entry2\")\n",
    "  await log.append(\"entry3\")\n",
    "\n",
    "  var hash = Object.keys(log._entryIndex)[1]\n",
    "  console.log(`${hash} --> ${log.has(hash)}`)\n",
    "})()"
   ]
  },
  {
   "cell_type": "markdown",
   "metadata": {},
   "source": [
    "# Log#traverse <small>instance function</small>\n",
    "Follow the pointers and load the log into memory for processing\n",
    "* **rootEntries**  Array entry or entries to start from\n",
    "* **amount**  Number number of entries to traverse\n",
    "\n",
    "**Returns:  Object** - object containing traversed entries"
   ]
  },
  {
   "cell_type": "code",
   "execution_count": 0,
   "metadata": {},
   "outputs": [],
   "source": [
    "(async () => {\n",
    "  var identity = await IdentityProvider.createIdentity(keystore, 'username', identitySignerFn)\n",
    "  var log = new Log(ipfs, accessController, identity)\n",
    "\n",
    "  await log.append(\"entryA1\")\n",
    "  await log.append(\"entryA2\")\n",
    "  await log.append(\"entryA3\")\n",
    "\n",
    "  var traverse1 = log.traverse(log.heads, 1)\n",
    "  console.log(Object.keys(traverse1).length)\n",
    "\n",
    "  var traverse2 = log.traverse(log.heads, 2)\n",
    "  console.log(Object.keys(traverse2).length)\n",
    "\n",
    "  var traverse3 = log.traverse(log.heads, 3)\n",
    "  console.log(Object.keys(traverse3).length)\n",
    "})()"
   ]
  },
  {
   "cell_type": "markdown",
   "metadata": {},
   "source": [
    "# Log#append <small>instance function</small>\n",
    "Append an entry to the log\n",
    "* **data**  Entry Entry to add\n",
    "* **pointerCount**  Number \"Depth\" of log to traverse\n",
    "\n",
    "**Returns:  Log** - New Log containing the appended value"
   ]
  },
  {
   "cell_type": "code",
   "execution_count": 0,
   "metadata": {},
   "outputs": [],
   "source": [
    "(async () => {\n",
    "  var identity = await IdentityProvider.createIdentity(keystore, 'username', identitySignerFn)\n",
    "  var log = new Log(ipfs, accessController, identity)\n",
    "\n",
    "  await log.append(\"entry1\")\n",
    "  await log.append(\"entry2\")\n",
    "  await log.append(\"entry3\")\n",
    "\n",
    "  console.log(log.length)\n",
    " })()"
   ]
  },
  {
   "cell_type": "markdown",
   "metadata": {},
   "source": [
    "# Log#join <small>instance function</small>\n",
    "Joins two logs returning a new log. Doesn't mutate the original logs.\n",
    "* **log**  Log Log to join with this Log\n",
    "* **size**  Number Max size of the joined log\n",
    "\n",
    "**Returns:  Promise.<Log>** - The promise of a new Log"
   ]
  },
  {
   "cell_type": "code",
   "execution_count": 0,
   "metadata": {},
   "outputs": [],
   "source": [
    "(async () => {\n",
    "  var identity1 = await IdentityProvider.createIdentity(keystore, 'username', identitySignerFn)\n",
    "  var identity2 = await IdentityProvider.createIdentity(keystore, 'username', identitySignerFn)\n",
    "\n",
    "  var log1 = new Log(ipfs, accessController, identity1)\n",
    "  var log2 = new Log(ipfs, accessController, identity2)\n",
    "\n",
    "  await log1.append(\"entryA1\")\n",
    "  await log1.append(\"entryA2\")\n",
    "  await log1.append(\"entryA3\")\n",
    "\n",
    "  await log2.append(\"entryB1\")\n",
    "  await log2.append(\"entryB2\")\n",
    "\n",
    "  await log1.join(log2)\n",
    "\n",
    "  console.log(log1.length)\n",
    "})()"
   ]
  },
  {
   "cell_type": "markdown",
   "metadata": {},
   "source": [
    "# Log#toJSON <small>instance function</small>\n",
    "Get the log in JSON format\n",
    "\n",
    "**Returns:  Object.<{id, heads}>** - object with the id of the log and the heads"
   ]
  },
  {
   "cell_type": "code",
   "execution_count": 0,
   "metadata": {},
   "outputs": [],
   "source": [
    "(async () => {\n",
    "  var identity = await IdentityProvider.createIdentity(keystore, 'username', identitySignerFn)\n",
    "  var log = new Log(ipfs, accessController, identity)\n",
    "\n",
    "  await log.append(\"entryA1\")\n",
    "  await log.append(\"entryA2\")\n",
    "  await log.append(\"entryA3\")\n",
    "\n",
    "  console.log(log.toJSON())\n",
    "})()"
   ]
  },
  {
   "cell_type": "markdown",
   "metadata": {},
   "source": [
    "# Log#toSnapshot <small>instance function</small>\n",
    "Get a snapshot of the log\n",
    "\n",
    "**Returns:  Object.<{id, heads, values}>** - object with id, heads, and values array"
   ]
  },
  {
   "cell_type": "code",
   "execution_count": 0,
   "metadata": {},
   "outputs": [],
   "source": [
    "(async () => {\n",
    "  var identity = await IdentityProvider.createIdentity(keystore, 'username', identitySignerFn)\n",
    "  var log = new Log(ipfs, accessController, identity)\n",
    "\n",
    "  await log.append(\"entryA1\")\n",
    "  await log.append(\"entryA2\")\n",
    "  await log.append(\"entryA3\")\n",
    "\n",
    "  console.log(log.toSnapshot())\n",
    "})()\n",
    "(async () => {\n",
    "  var identity = await IdentityProvider.createIdentity(keystore, 'username', identitySignerFn)\n",
    "  var log = new Log(ipfs, accessController, identity)\n",
    "})()"
   ]
  },
  {
   "cell_type": "markdown",
   "metadata": {},
   "source": [
    "# Log#toBuffer <small>instance function</small>\n",
    "Get the log as a Buffer\n",
    "\n",
    "**Returns:  Buffer** - Buffer version of stringified log JSON"
   ]
  },
  {
   "cell_type": "code",
   "execution_count": 0,
   "metadata": {},
   "outputs": [],
   "source": [
    "(async () => {\n",
    "  var identity = await IdentityProvider.createIdentity(keystore, 'username', identitySignerFn)\n",
    "  var log = new Log(ipfs, accessController, identity)\n",
    "\n",
    "  await log.append(\"entryA1\")\n",
    "  await log.append(\"entryA2\")\n",
    "  await log.append(\"entryA3\")\n",
    "\n",
    "  console.log(log.toBuffer())\n",
    "})()\n",
    "(async () => {\n",
    "  var identity = await IdentityProvider.createIdentity(keystore, 'username', identitySignerFn)\n",
    "  var log = new Log(ipfs, accessController, identity)\n",
    "})()"
   ]
  },
  {
   "cell_type": "markdown",
   "metadata": {},
   "source": [
    "# Log#toString <small>instance function</small>\n",
    "Returns the log entries as a formatted string\n",
    "* **payloadMapper**  function transformation function\n",
    "\n",
    "**Returns:  string** - plain text representation of the log"
   ]
  },
  {
   "cell_type": "code",
   "execution_count": 0,
   "metadata": {},
   "outputs": [],
   "source": [
    "(async () => {\n",
    "  var identity = await IdentityProvider.createIdentity(keystore, 'username', identitySignerFn)\n",
    "  var log = new Log(ipfs, accessController, identity)\n",
    "\n",
    "  await log.append(\"entryA1\")\n",
    "  await log.append(\"entryA2\")\n",
    "  await log.append(\"entryA3\")\n",
    "\n",
    "  console.log(log.toString())\n",
    "})()"
   ]
  },
  {
   "cell_type": "markdown",
   "metadata": {},
   "source": [
    "# Log.isLog <small>static function</small>\n",
    "Check whether an object is a Log instance\n",
    "* **log**  Object An object to check\n",
    "\n",
    "**Returns:  true false** - true or false if the object is a log instance"
   ]
  },
  {
   "cell_type": "code",
   "execution_count": 11,
   "metadata": {},
   "outputs": [
    {
     "name": "stdout",
     "output_type": "stream",
     "text": [
      "true\n",
      "false\n"
     ]
    }
   ],
   "source": [
    "(async () => {\n",
    "  var identity = await IdentityProvider.createIdentity(keystore, 'username', identitySignerFn)\n",
    "  var log = new Log(ipfs, accessController, identity)\n",
    "  var notALog = { \"Not\": \"Log\"}\n",
    "  \n",
    "  console.log(Log.isLog(log))\n",
    "  console.log(Log.isLog(notALog))\n",
    "})()"
   ]
  },
  {
   "cell_type": "markdown",
   "metadata": {},
   "source": [
    "# Log#toMultihash <small>instance function</small>\n",
    "Get the log's multihash\n",
    "\n",
    "**Returns:  Promise.<string>** - Multihash of the Log as Base58 encoded string"
   ]
  },
  {
   "cell_type": "code",
   "execution_count": 13,
   "metadata": {},
   "outputs": [
    {
     "name": "stdout",
     "output_type": "stream",
     "text": [
      "QmcPq5jYRRPDYdepora8D4xZHTZpYZ42cDzM6wpJRgk96z\n"
     ]
    }
   ],
   "source": [
    "(async () => {\n",
    "  var identity = await IdentityProvider.createIdentity(keystore, 'username', identitySignerFn)\n",
    "  var log = new Log(ipfs, accessController, identity)\n",
    "\n",
    "  await log.append(\"entryA1\")\n",
    "  await log.append(\"entryA2\")\n",
    "  await log.append(\"entryA3\")\n",
    "\n",
    "  console.log(await log.toMultihash())\n",
    "})()"
   ]
  },
  {
   "cell_type": "markdown",
   "metadata": {},
   "source": [
    "# onProgressCallback <small>global typedef</small>\n",
    "On Progress Callback\n",
    "* **hash**  String \n",
    "* **entry**  Entry \n",
    "* **depth**  Number "
   ]
  },
  {
   "cell_type": "code",
   "execution_count": 0,
   "metadata": {},
   "outputs": [],
   "source": []
  },
  {
   "cell_type": "markdown",
   "metadata": {},
   "source": [
    "# Log.fromMultihash <small>static function</small>\n",
    "Create a log from multihash\n",
    "* **ipfs**  IPFS An IPFS instance\n",
    "* **access**  AccessController AccessController object for the Log\n",
    "* **identity**  Identity The identity of the owner of the log\n",
    "* **hash**  string Multihash (as a Base58 encoded string) to create the log from\n",
    "* **length**  Number [length=-1] How many items to include in the log\n",
    "* **exclude**  Entry Entries to ex;lude from the log\n",
    "* **onProgressCallback**  onProgressCallback On Progress Callback\n",
    "\n",
    "**Returns:  Promise.<Log>** - New Log"
   ]
  },
  {
   "cell_type": "code",
   "execution_count": 15,
   "metadata": {},
   "outputs": [
    {
     "name": "stdout",
     "output_type": "stream",
     "text": [
      "[ 'entryA1', 'entryA2', 'entryA3' ]\n"
     ]
    }
   ],
   "source": [
    "(async () => {\n",
    "  var identity = await IdentityProvider.createIdentity(keystore, 'username', identitySignerFn)\n",
    "  var log = new Log(ipfs, accessController, identity)\n",
    "\n",
    "  await log.append(\"entryA1\")\n",
    "  await log.append(\"entryA2\")\n",
    "  await log.append(\"entryA3\")\n",
    "\n",
    "  var multihash = await log.toMultihash();\n",
    "  var logFromHash = await Log.fromMultihash(ipfs, accessController, identity, multihash)\n",
    "      \n",
    "  console.log(logFromHash.values.map(e => e.payload))\n",
    "})()"
   ]
  },
  {
   "cell_type": "markdown",
   "metadata": {},
   "source": [
    "# onProgressCallbackWithParent <small>global typedef</small>\n",
    "On Progress Callback\n",
    "* **hash**  String \n",
    "* **entry**  Entry \n",
    "* **parent**  Entry \n",
    "* **depth**  Number "
   ]
  },
  {
   "cell_type": "code",
   "execution_count": 0,
   "metadata": {},
   "outputs": [],
   "source": []
  },
  {
   "cell_type": "markdown",
   "metadata": {},
   "source": [
    "# Log.fromEntryHash <small>static function</small>\n",
    "Create a log from a single entry's multihash\n",
    "* **ipfs**  IPFS An IPFS instance\n",
    "* **access**  AccessController AccessController instance for the log\n",
    "* **identity**  Identity Identity object for the hash\n",
    "* **hash**  string Multihash (as a Base58 encoded string) of the Entry from which to create the log from\n",
    "* **id**  Number the ID of the new log\n",
    "* **length**  Number How many entries to include in the log\n",
    "* **exclude**  Array.<Entry> entries to exclude from the new log\n",
    "* **onProgressCallback**  onProgressCallback On Progress Callback\n",
    "\n",
    "**Returns:  Promise.<Log>** - New Log"
   ]
  },
  {
   "cell_type": "code",
   "execution_count": 0,
   "metadata": {},
   "outputs": [],
   "source": [
    "(async () => {\n",
    "  var identity = await IdentityProvider.createIdentity(keystore, 'username', identitySignerFn)\n",
    "  var log = new Log(ipfs, accessController, identity)\n",
    "})()"
   ]
  },
  {
   "cell_type": "markdown",
   "metadata": {},
   "source": [
    "# Log.fromJSON <small>static function</small>\n",
    "Create a log from a Log Snapshot JSON\n",
    "* **ipfs**  IPFS An IPFS instance\n",
    "* **access**  AccessController AccessController instance for the log\n",
    "* **identity**  Identity Identity object for the hash\n",
    "* **json**  Object Log snapshot as JSON object\n",
    "* **length**  Number How many entries to include in the log\n",
    "* **timeout**  Number number of milliseconds to time out in\n",
    "* **onProgressCallback**  onProgressCallback On progress callback\n",
    "\n",
    "**Returns:  Promise.<Log>** - New Log"
   ]
  },
  {
   "cell_type": "code",
   "execution_count": 0,
   "metadata": {},
   "outputs": [],
   "source": [
    "(async () => {\n",
    "  var identity = await IdentityProvider.createIdentity(keystore, 'username', identitySignerFn)\n",
    "  var log = new Log(ipfs, accessController, identity)\n",
    "})()"
   ]
  },
  {
   "cell_type": "markdown",
   "metadata": {},
   "source": [
    "# Log.fromEntry <small>static function</small>\n",
    "Create a new log from an Entry instance\n",
    "* **ipfs**  IPFS An IPFS instance\n",
    "* **access**  AccessController AccessController instance for the log\n",
    "* **identity**  Identity Identity object for the hash\n",
    "* **sourceEntries**  Entry Array.<Entry> An Entry or an array of entries to fetch a log from\n",
    "* **length**  Number How many entries to include. Default: infinite.\n",
    "* **exclude**  Array.<(Entry|string)> Array of entries or hashes or entries to not fetch (foe eg. cached entries)\n",
    "* **onProgressCallback**  onProgressCallback On progress callback\n",
    "\n",
    "**Returns:  Promise.<Log>** - New Log"
   ]
  },
  {
   "cell_type": "code",
   "execution_count": 0,
   "metadata": {},
   "outputs": [],
   "source": [
    "(async () => {\n",
    "  var identity = await IdentityProvider.createIdentity(keystore, 'username', identitySignerFn)\n",
    "  var log = new Log(ipfs, accessController, identity)\n",
    "})()"
   ]
  },
  {
   "cell_type": "markdown",
   "metadata": {},
   "source": [
    "# Log.findHeads <small>static function</small>\n",
    "Finds entries that are the heads of this collection,\n",
    "ie. entries that are not referenced by other entries\n",
    "* **entries**  Array.<Entry> Entries to search heads from\n",
    "\n",
    "**Returns:  Array.<Entry>** - entryHash"
   ]
  },
  {
   "cell_type": "code",
   "execution_count": 0,
   "metadata": {},
   "outputs": [],
   "source": [
    "(async () => {\n",
    "  var identity = await IdentityProvider.createIdentity(keystore, 'username', identitySignerFn)\n",
    "  var log = new Log(ipfs, accessController, identity)\n",
    "})()"
   ]
  },
  {
   "cell_type": "markdown",
   "metadata": {},
   "source": [
    "# Log.findTails <small>static function</small>\n",
    "Find entries that point to another entry that is not in the input array\n",
    "* **entries**  Array.<Entry> entried to find tails from\n",
    "\n",
    "**Returns:  Array.<Entry>** - unique tail entries"
   ]
  },
  {
   "cell_type": "code",
   "execution_count": 0,
   "metadata": {},
   "outputs": [],
   "source": [
    "(async () => {\n",
    "  var identity = await IdentityProvider.createIdentity(keystore, 'username', identitySignerFn)\n",
    "  var log = new Log(ipfs, accessController, identity)\n",
    "})()"
   ]
  },
  {
   "cell_type": "markdown",
   "metadata": {},
   "source": [
    "# Log.findTailHashes <small>static function</small>\n",
    "Find the hashes to entries that are not in a collection\n",
    "but referenced by other entries\n",
    "* **entries**  Array.<Entry> array of entries to find tails in\n",
    "\n",
    "**Returns:  Array.<String>** - hashes of tail entries"
   ]
  },
  {
   "cell_type": "code",
   "execution_count": 0,
   "metadata": {},
   "outputs": [],
   "source": [
    "(async () => {\n",
    "  var identity = await IdentityProvider.createIdentity(keystore, 'username', identitySignerFn)\n",
    "  var log = new Log(ipfs, accessController, identity)\n",
    "})()"
   ]
  },
  {
   "cell_type": "markdown",
   "metadata": {},
   "source": [
    "# Log.difference <small>static function</small>\n",
    "Shows the difference between two logs\n",
    "* **a**  Log the first log\n",
    "* **b**  Log the second log\n",
    "\n",
    "**Returns:  Log** - The resultant log"
   ]
  },
  {
   "cell_type": "code",
   "execution_count": 0,
   "metadata": {},
   "outputs": [],
   "source": [
    "(async () => {\n",
    "  var identity = await IdentityProvider.createIdentity(keystore, 'username', identitySignerFn)\n",
    "  var log = new Log(ipfs, accessController, identity)\n",
    "})()"
   ]
  }
 ],
 "metadata": {
  "kernelspec": {
   "display_name": "Javascript (Node.js)",
   "language": "javascript",
   "name": "javascript"
  },
  "language_info": {
   "file_extension": ".js",
   "mimetype": "application/javascript",
   "name": "javascript",
   "version": "10.8.0"
  }
 },
 "nbformat": 4,
 "nbformat_minor": 2
}
