{
 "cells": [
  {
   "cell_type": "markdown",
   "metadata": {},
   "source": [
    "## API Documentation\n",
    "\n",
    "\n",
    "### `class Log`\n",
    "\n",
    "Creates a new Log instance"
   ]
  },
  {
   "cell_type": "code",
   "execution_count": null,
   "metadata": {},
   "outputs": [],
   "source": [
    "var log5 = new Log(ipfs, testACL, testIdentityA)"
   ]
  },
  {
   "cell_type": "markdown",
   "metadata": {},
   "source": [
    "#### Properties\n",
    "\n",
    "##### `id`\n",
    "\n",
    "The ID of the log. If one is not specified it will default to JS microtime."
   ]
  },
  {
   "cell_type": "code",
   "execution_count": null,
   "metadata": {},
   "outputs": [],
   "source": [
    "log5.id"
   ]
  },
  {
   "cell_type": "markdown",
   "metadata": {},
   "source": [
    "##### `values`\n",
    "\n",
    "Returns an `Array` of [entries](https://github.com/haadcode/ipfs-log/blob/master/src/entry.js) in the log.\n",
    " The values are in linearized order according to their [Lamport clocks](https://en.wikipedia.org/wiki/Lamport_timestamps)."
   ]
  },
  {
   "cell_type": "code",
   "execution_count": null,
   "metadata": {},
   "outputs": [],
   "source": [
    "log3.values // full array of all values\n",
    "log3.values.map(v => v.hash)"
   ]
  },
  {
   "cell_type": "markdown",
   "metadata": {},
   "source": [
    "##### `length`\n",
    "\n",
    "Returns the number of entries in the log."
   ]
  },
  {
   "cell_type": "code",
   "execution_count": null,
   "metadata": {},
   "outputs": [],
   "source": [
    "log3.length // Also equivalent to log3.values.length"
   ]
  },
  {
   "cell_type": "markdown",
   "metadata": {},
   "source": [
    "##### `clock`\n",
    "\n",
    "Returns the current timestamp of the log in Lamport Clock."
   ]
  },
  {
   "cell_type": "code",
   "execution_count": null,
   "metadata": {},
   "outputs": [],
   "source": [
    "log3.clock"
   ]
  },
  {
   "cell_type": "markdown",
   "metadata": {},
   "source": [
    "##### `heads`\n",
    "\n",
    "Returns the heads of the log. Heads are the entries that are not referenced by other entries in the log."
   ]
  },
  {
   "cell_type": "code",
   "execution_count": null,
   "metadata": {},
   "outputs": [],
   "source": [
    "log3.heads // full array of all values\n",
    "log3.heads.map(h => h.hash)"
   ]
  },
  {
   "cell_type": "markdown",
   "metadata": {},
   "source": [
    "##### `tails`\n",
    "\n",
    "Return the tails of the log. Tails are the entries that reference other entries that are not in the log."
   ]
  },
  {
   "cell_type": "code",
   "execution_count": null,
   "metadata": {},
   "outputs": [],
   "source": [
    "log3.tails // full array of all values\n",
    "log3.tails.map(h => h.hash)"
   ]
  },
  {
   "cell_type": "markdown",
   "metadata": {},
   "source": [
    "#### Methods"
   ]
  },
  {
   "cell_type": "markdown",
   "metadata": {},
   "source": [
    "##### `get(multihash)`\n",
    "> @param multihash <br />\n",
    "> @returns whatever\n",
    "Find an entry by multihash (TODO: link to multihash docs)"
   ]
  },
  {
   "cell_type": "code",
   "execution_count": null,
   "metadata": {},
   "outputs": [],
   "source": [
    "var tail_entry = log3.get(\"QmWMvKh7J37fL2dS287pPYTT3xJPYWwWqTuozh3QxwsdR9\")\n",
    "tail_entry.payload"
   ]
  },
  {
   "cell_type": "markdown",
   "metadata": {},
   "source": [
    "##### `has(multihash)`\n",
    "\n",
    "Verify that a certain entry exists in a log"
   ]
  },
  {
   "cell_type": "code",
   "execution_count": null,
   "metadata": {},
   "outputs": [],
   "source": [
    "log3.has(\"Qmb1aXiPJVMTRQnhwa1cFcD8DuSaHoUBjhd4tV3S8ELGSS\")"
   ]
  },
  {
   "cell_type": "markdown",
   "metadata": {},
   "source": [
    "##### `traverse(rootEntry, amount)`\n",
    "\n",
    "TODO: Need explainer and compelling example"
   ]
  },
  {
   "cell_type": "code",
   "execution_count": null,
   "metadata": {},
   "outputs": [],
   "source": [
    "var headHash = log3.heads[0].hash\n",
    "var headEntry = log3.get(headHash)\n",
    "log3.traverse([headEntry], 2)"
   ]
  },
  {
   "cell_type": "markdown",
   "metadata": {},
   "source": [
    "##### `append(entry, [pointerCount = 1])`\n",
    "\n",
    "Adds a new entry to an existing log\n",
    "\n",
    "Append an entry to the log. Returns a *Promise* that resolves to the updated `Log`.\n",
    "\n",
    "`ipfs` IPFS instance.\n",
    "\n",
    "`log` Log to append to.\n",
    "\n",
    "`data` can be any type of data: Number, String, Object, etc. It can also be an instance of [Entry](https:/\n",
    "/github.com/haadcode/ipfs-log/blob/master/src/entry.js).\n",
    "\n",
    "\n",
    "TODO: pointerCount example"
   ]
  },
  {
   "cell_type": "code",
   "execution_count": null,
   "metadata": {},
   "outputs": [],
   "source": [
    "(async () => {\n",
    "    var entry6 = await Entry.create(ipfs, testIdentityC, 'C', 'entry6', [])\n",
    "    log3.append(entry6)\n",
    "    console.log(log3.length)\n",
    "})()"
   ]
  },
  {
   "cell_type": "markdown",
   "metadata": {},
   "source": [
    "##### `join(log, [size = -1])`\n",
    "\n",
    "Join the log with another log. Returns a Promise that resolves to a `Log` instance. The size of the joined\n",
    " log can be specified by giving `length` argument.\n",
    "\n",
    "TODO: Size example, also does this even work??"
   ]
  },
  {
   "cell_type": "code",
   "execution_count": null,
   "metadata": {},
   "outputs": [],
   "source": [
    "(async () => {\n",
    "    var entry1B = await Entry.create(ipfs, testIdentityB, 'B', 'entry1B', [])\n",
    "    var entry2B = await Entry.create(ipfs, testIdentityB, 'B', 'entry2B', [])\n",
    "    var entry3B = await Entry.create(ipfs, testIdentityB, 'B', 'entry3B', [])\n",
    "    log2.append(entry1B)\n",
    "    log2.append(entry2B)\n",
    "    log2.append(entry3B)\n",
    "    \n",
    "    console.log(log3.length, log2.length)\n",
    "    log3.join(log2)\n",
    "    console.log(log3.length)\n",
    "})()"
   ]
  },
  {
   "cell_type": "markdown",
   "metadata": {},
   "source": [
    "##### `toJSON()`\n",
    "\n",
    "Outputs a JSON representatiopn of the log"
   ]
  },
  {
   "cell_type": "code",
   "execution_count": null,
   "metadata": {},
   "outputs": [],
   "source": [
    "log3.toJSON()"
   ]
  },
  {
   "cell_type": "markdown",
   "metadata": {},
   "source": [
    "##### `toSnapshot()`"
   ]
  },
  {
   "cell_type": "code",
   "execution_count": null,
   "metadata": {},
   "outputs": [],
   "source": [
    "Object.keys(log3.toSnapshot())"
   ]
  },
  {
   "cell_type": "markdown",
   "metadata": {},
   "source": [
    "##### `toBuffer()`\n",
    "\n",
    "Converts the log to a `Buffer` that contains the log as JSON.stringified `string`. Returns a `Buffer`."
   ]
  },
  {
   "cell_type": "code",
   "execution_count": null,
   "metadata": {},
   "outputs": [],
   "source": [
    "log3.toBuffer()\n",
    "log3.toBuffer().toString()"
   ]
  },
  {
   "cell_type": "markdown",
   "metadata": {},
   "source": [
    "##### `toString(payloadMapper)`\n",
    "\n",
    "Returns the log values as a nicely formatted string."
   ]
  },
  {
   "cell_type": "code",
   "execution_count": null,
   "metadata": {},
   "outputs": [],
   "source": [
    "logString = log2.toString(m => m.hash)"
   ]
  },
  {
   "cell_type": "markdown",
   "metadata": {},
   "source": [
    "##### (Static) `Log.isLog(log)` \n",
    "\n",
    "Check if an object is a `Log` instance."
   ]
  },
  {
   "cell_type": "code",
   "execution_count": null,
   "metadata": {},
   "outputs": [],
   "source": [
    "console.log(Log.isLog(log3))\n",
    "console.log(Log.isLog(\"hello\"))"
   ]
  },
  {
   "cell_type": "markdown",
   "metadata": {},
   "source": [
    "##### `toMultihash()`\n",
    "\n",
    "Writes the log to IPFS and returns the Multihash of the log. Returns a `Promise` that resolves to a Base58\n",
    " encoded `string`."
   ]
  },
  {
   "cell_type": "code",
   "execution_count": null,
   "metadata": {},
   "outputs": [],
   "source": [
    "log3.toMultihash()"
   ]
  },
  {
   "cell_type": "markdown",
   "metadata": {},
   "source": [
    "##### `static async Log.fromMultihash(ipfs, access, identity, hash, [length = -1], exclude, onProgressCallback)`\n",
    "\n",
    "Create a log from multihash\n",
    "   * @param {IPFS}   ipfs        An IPFS instance\n",
    "   * @param {string} hash        Multihash (as a Base58 encoded string) to create the log from\n",
    "   * @param {Number} [length=-1] How many items to include in the log\n",
    "   * @param {Function(hash, entry, parent, depth)} onProgressCallback\n",
    "   * @return {Promise<Log>}      New Log"
   ]
  },
  {
   "cell_type": "code",
   "execution_count": null,
   "metadata": {},
   "outputs": [],
   "source": [
    "(async() => {\n",
    "    var log3_hash = await log3.toMultihash()\n",
    "    var log4 = await Log.fromMultihash(ipfs, testACL, testIdentityC, log3_hash)\n",
    "    console.log(log4.length)\n",
    "})()"
   ]
  },
  {
   "cell_type": "markdown",
   "metadata": {},
   "source": [
    "##### `static async Log.fromEntryHash (ipfs, access, identity, hash, id, [length = -1], exclude, onProgressCallback)`\n",
    "\n",
    "TODO: Examples here"
   ]
  },
  {
   "cell_type": "markdown",
   "metadata": {},
   "source": [
    "##### `static async Log.fromJSON (ipfs, access, identity, json, length = -1, timeout, onProgressCallback)`\n",
    "\n",
    "TODO: Usage and examples"
   ]
  },
  {
   "cell_type": "markdown",
   "metadata": {},
   "source": [
    "##### `static async fromEntry (ipfs, access, identity, sourceEntries, length = -1, exclude, onProgressCallback)`\n",
    "\n",
    "Create a `Log` from an `Entry`.\n",
    "\n",
    "Creating a log from an entry will retrieve entries from IPFS, thus causing side effects.\n",
    "\n",
    "TODO: Usage and Examples"
   ]
  },
  {
   "cell_type": "markdown",
   "metadata": {},
   "source": [
    "##### ` static findHeads (entries)`\n",
    "\n",
    "TODO: Usage and Examples"
   ]
  },
  {
   "cell_type": "markdown",
   "metadata": {},
   "source": [
    "##### `static findTails (entries)`\n",
    "\n",
    "TODO: Usage and Examples"
   ]
  },
  {
   "cell_type": "markdown",
   "metadata": {},
   "source": [
    "##### `static findTailHashes (entries)`\n",
    "\n",
    "TODO: Usage and Examples"
   ]
  },
  {
   "cell_type": "markdown",
   "metadata": {},
   "source": [
    "##### `  static Log.difference (a, b)`\n",
    "\n",
    "\n",
    "TODO: Usage and Examples"
   ]
  },
  {
   "cell_type": "markdown",
   "metadata": {},
   "source": [
    "TODO: All of below\n",
    "\n",
    "### LogIO\n",
    "#### toMultiHash\n",
    "#### fromMultiHash\n",
    "#### fromEntryHash\n",
    "#### fromJSON\n",
    "#### fromEntry\n",
    "\n",
    "### LamportClock\n",
    "#### constructor\n",
    "#### tick\n",
    "#### merge\n",
    "#### clone\n",
    "#### compare\n",
    "\n",
    "### Entry\n",
    "#### create\n",
    "#### verify\n",
    "#### toBuffer\n",
    "#### toMultiHash\n",
    "#### fromMultiHash\n",
    "#### isEntry\n",
    "#### compare\n",
    "#### isEqual\n",
    "#### isParent\n",
    "#### findChildren\n",
    "\n",
    "### EntryIO\n",
    "#### fetchParallel\n",
    "#### fetchAll\n",
    "\n",
    "### Utility Functions\n",
    "#### (src/log-sorting.js) LastWriteWins\n",
    "#### (src/log-sorting.js) SortByClocks\n",
    "#### (src/log-sorting.js) SortByClockId\n",
    "#### (src/utils/difference.js) difference\n",
    "#### (src/utils/find-uniques.js) findUniques\n",
    "#### (src/utils/intersection.js) intersection\n",
    "#### (src/utils/is-defined.js) is-defined\n",
    "\n",
    "### Errors\n",
    "#### IPFSNotDefinedError\n",
    "#### LogNotDefinedError\n",
    "#### NotALogError"
   ]
  }
 ],
 "metadata": {
  "kernelspec": {
   "display_name": "Javascript (Node.js)",
   "language": "javascript",
   "name": "javascript"
  },
  "language_info": {
   "file_extension": ".js",
   "mimetype": "application/javascript",
   "name": "javascript",
   "version": "10.8.0"
  }
 },
 "nbformat": 4,
 "nbformat_minor": 2
}
